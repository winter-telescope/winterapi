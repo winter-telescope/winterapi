{
 "cells": [
  {
   "cell_type": "code",
   "execution_count": 1,
   "id": "f91a536f",
   "metadata": {},
   "outputs": [],
   "source": [
    "import logging\n",
    "from winterapi import WinterAPI\n",
    "from wintertoo.models import WinterRaDecToO"
   ]
  },
  {
   "cell_type": "code",
   "execution_count": 2,
   "id": "5e92d4e2",
   "metadata": {},
   "outputs": [],
   "source": [
    "logging.getLogger(\"winterapi\").setLevel(\"DEBUG\")"
   ]
  },
  {
   "cell_type": "code",
   "execution_count": 3,
   "id": "ba9823d9",
   "metadata": {},
   "outputs": [],
   "source": [
    "winter = WinterAPI()"
   ]
  },
  {
   "cell_type": "code",
   "execution_count": 4,
   "id": "c68cfda7",
   "metadata": {},
   "outputs": [],
   "source": [
    "# Program details\n",
    "program = \"2024A001\""
   ]
  },
  {
   "cell_type": "code",
   "execution_count": 5,
   "id": "513407c4",
   "metadata": {},
   "outputs": [],
   "source": [
    "# Target details\n",
    "ra_deg = 249.1311789\n",
    "dec_deg = 47.858962\n",
    "# Target name is a useful field for querying data, so put something useful!\n",
    "# If you use Skyportal, we strongly advise you to use that name\n",
    "target_name = \"ZTF23aaxeacr\""
   ]
  },
  {
   "cell_type": "code",
   "execution_count": 6,
   "id": "031d4780",
   "metadata": {},
   "outputs": [
    {
     "data": {
      "text/plain": [
       "WinterRaDecToO(ra_deg=249.1311789, dec_deg=47.858962, use_field_grid=False, filters=['Y', 'J'], target_priority=50.0, target_name='ZTF23aaxeacr', t_exp=960.0, n_exp=1, n_dither=8, dither_distance=30.0, start_time_mjd=60346.16884958786, end_time_mjd=60347.15884959191, max_airmass=2.0)"
      ]
     },
     "execution_count": 6,
     "metadata": {},
     "output_type": "execute_result"
    }
   ],
   "source": [
    "# A ToO with the same dither combo for Y/J\n",
    "too_1 = WinterRaDecToO(ra_deg=ra_deg, dec_deg=dec_deg, n_dither=8, t_exp=960., filters=['Y', 'J'], target_name=target_name)\n",
    "too_1"
   ]
  },
  {
   "cell_type": "code",
   "execution_count": 7,
   "id": "7c3daafe",
   "metadata": {},
   "outputs": [
    {
     "data": {
      "text/plain": [
       "WinterRaDecToO(ra_deg=249.1311789, dec_deg=47.858962, use_field_grid=False, filters=['Hs'], target_priority=50.0, target_name='ZTF23aaxeacr', t_exp=960.0, n_exp=1, n_dither=15, dither_distance=30.0, start_time_mjd=60346.16884958786, end_time_mjd=60347.15884959191, max_airmass=2.0)"
      ]
     },
     "execution_count": 7,
     "metadata": {},
     "output_type": "execute_result"
    }
   ],
   "source": [
    "# A second ToO, with a different dither number for Hs\n",
    "too_2 = WinterRaDecToO(ra_deg=ra_deg, dec_deg=dec_deg, n_dither=15, t_exp=960., filters=[\"Hs\"], target_name=target_name)\n",
    "too_2"
   ]
  },
  {
   "cell_type": "code",
   "execution_count": 8,
   "id": "b7be6f9f",
   "metadata": {},
   "outputs": [],
   "source": [
    "too_list = [too_1, too_2]"
   ]
  },
  {
   "cell_type": "code",
   "execution_count": 9,
   "id": "555800e8",
   "metadata": {},
   "outputs": [
    {
     "name": "stdout",
     "output_type": "stream",
     "text": [
      "Available programs: ['2024A001', '2023A000', '2023A001', '2023A002']\n"
     ]
    }
   ],
   "source": [
    "program_list = winter.get_programs()\n",
    "print(f\"Available programs: {program_list}\")\n",
    "assert program in program_list, f\"program {program} not found! Add this program first.\""
   ]
  },
  {
   "cell_type": "code",
   "execution_count": 10,
   "id": "ec20aa42",
   "metadata": {
    "scrolled": true
   },
   "outputs": [
    {
     "data": {
      "text/html": [
       "<div>\n",
       "<style scoped>\n",
       "    .dataframe tbody tr th:only-of-type {\n",
       "        vertical-align: middle;\n",
       "    }\n",
       "\n",
       "    .dataframe tbody tr th {\n",
       "        vertical-align: top;\n",
       "    }\n",
       "\n",
       "    .dataframe thead th {\n",
       "        text-align: right;\n",
       "    }\n",
       "</style>\n",
       "<table border=\"1\" class=\"dataframe\">\n",
       "  <thead>\n",
       "    <tr style=\"text-align: right;\">\n",
       "      <th></th>\n",
       "      <th>targName</th>\n",
       "      <th>raDeg</th>\n",
       "      <th>decDeg</th>\n",
       "      <th>fieldID</th>\n",
       "      <th>filter</th>\n",
       "      <th>visitExpTime</th>\n",
       "      <th>priority</th>\n",
       "      <th>progPI</th>\n",
       "      <th>progName</th>\n",
       "      <th>progID</th>\n",
       "      <th>validStart</th>\n",
       "      <th>validStop</th>\n",
       "      <th>observed</th>\n",
       "      <th>maxAirmass</th>\n",
       "      <th>ditherNumber</th>\n",
       "      <th>ditherStepSize</th>\n",
       "      <th>obsHistID</th>\n",
       "    </tr>\n",
       "  </thead>\n",
       "  <tbody>\n",
       "    <tr>\n",
       "      <th>0</th>\n",
       "      <td>ZTF23aaxeacr</td>\n",
       "      <td>249.131179</td>\n",
       "      <td>47.858962</td>\n",
       "      <td>999999999</td>\n",
       "      <td>Y</td>\n",
       "      <td>960.0</td>\n",
       "      <td>50.0</td>\n",
       "      <td>RStein</td>\n",
       "      <td>2024A001</td>\n",
       "      <td>3</td>\n",
       "      <td>60346.16885</td>\n",
       "      <td>60347.15885</td>\n",
       "      <td>False</td>\n",
       "      <td>2.0</td>\n",
       "      <td>8</td>\n",
       "      <td>30.0</td>\n",
       "      <td>0</td>\n",
       "    </tr>\n",
       "    <tr>\n",
       "      <th>1</th>\n",
       "      <td>ZTF23aaxeacr</td>\n",
       "      <td>249.131179</td>\n",
       "      <td>47.858962</td>\n",
       "      <td>999999999</td>\n",
       "      <td>J</td>\n",
       "      <td>960.0</td>\n",
       "      <td>50.0</td>\n",
       "      <td>RStein</td>\n",
       "      <td>2024A001</td>\n",
       "      <td>3</td>\n",
       "      <td>60346.16885</td>\n",
       "      <td>60347.15885</td>\n",
       "      <td>False</td>\n",
       "      <td>2.0</td>\n",
       "      <td>8</td>\n",
       "      <td>30.0</td>\n",
       "      <td>1</td>\n",
       "    </tr>\n",
       "    <tr>\n",
       "      <th>2</th>\n",
       "      <td>ZTF23aaxeacr</td>\n",
       "      <td>249.131179</td>\n",
       "      <td>47.858962</td>\n",
       "      <td>999999999</td>\n",
       "      <td>Hs</td>\n",
       "      <td>960.0</td>\n",
       "      <td>50.0</td>\n",
       "      <td>RStein</td>\n",
       "      <td>2024A001</td>\n",
       "      <td>3</td>\n",
       "      <td>60346.16885</td>\n",
       "      <td>60347.15885</td>\n",
       "      <td>False</td>\n",
       "      <td>2.0</td>\n",
       "      <td>15</td>\n",
       "      <td>30.0</td>\n",
       "      <td>2</td>\n",
       "    </tr>\n",
       "  </tbody>\n",
       "</table>\n",
       "</div>"
      ],
      "text/plain": [
       "       targName       raDeg     decDeg    fieldID filter  visitExpTime  \\\n",
       "0  ZTF23aaxeacr  249.131179  47.858962  999999999      Y         960.0   \n",
       "1  ZTF23aaxeacr  249.131179  47.858962  999999999      J         960.0   \n",
       "2  ZTF23aaxeacr  249.131179  47.858962  999999999     Hs         960.0   \n",
       "\n",
       "   priority  progPI  progName  progID   validStart    validStop  observed  \\\n",
       "0      50.0  RStein  2024A001       3  60346.16885  60347.15885     False   \n",
       "1      50.0  RStein  2024A001       3  60346.16885  60347.15885     False   \n",
       "2      50.0  RStein  2024A001       3  60346.16885  60347.15885     False   \n",
       "\n",
       "   maxAirmass  ditherNumber  ditherStepSize  obsHistID  \n",
       "0         2.0             8            30.0          0  \n",
       "1         2.0             8            30.0          1  \n",
       "2         2.0            15            30.0          2  "
      ]
     },
     "execution_count": 10,
     "metadata": {},
     "output_type": "execute_result"
    }
   ],
   "source": [
    "# Schedule has three observations in total\n",
    "local_schedule = winter.build_schedule_locally(\n",
    "    program_name=program,\n",
    "    data=too_list\n",
    ")\n",
    "local_schedule"
   ]
  },
  {
   "cell_type": "code",
   "execution_count": 11,
   "id": "2a6462c6",
   "metadata": {},
   "outputs": [],
   "source": [
    "# If submit_trigger is False, the API will just check the schedule but not put in a ToO\n",
    "# Set this to True to actually trigger!\n",
    "api_res, api_schedule = winter.submit_too(\n",
    "    program_name=program,\n",
    "    data=too_list,\n",
    "    submit_trigger=False\n",
    ")"
   ]
  },
  {
   "cell_type": "code",
   "execution_count": 12,
   "id": "edc16188",
   "metadata": {},
   "outputs": [
    {
     "data": {
      "text/plain": [
       "'Request passed validation! Triggering was set to False. Schedule was not saved to disk and has no assigned name.'"
      ]
     },
     "execution_count": 12,
     "metadata": {},
     "output_type": "execute_result"
    }
   ],
   "source": [
    "# Let's see what message the API sent back\n",
    "api_res.json()[\"msg\"]"
   ]
  },
  {
   "cell_type": "code",
   "execution_count": 13,
   "id": "1758d4f7",
   "metadata": {},
   "outputs": [
    {
     "data": {
      "text/plain": [
       "\"Request passed validation! Triggering was set to True. Schedule name is 'request_2024A001_2024_02_05_19_49_26' .\""
      ]
     },
     "execution_count": 13,
     "metadata": {},
     "output_type": "execute_result"
    }
   ],
   "source": [
    "# Uncomment to trigger for real\n",
    "api_res, api_schedule = winter.submit_too(\n",
    "    program_name=program,\n",
    "    data=too_list,\n",
    "    submit_trigger=True\n",
    ")\n",
    "api_res.json()[\"msg\"]"
   ]
  },
  {
   "cell_type": "code",
   "execution_count": 14,
   "id": "dfebd472",
   "metadata": {},
   "outputs": [
    {
     "data": {
      "text/html": [
       "<div>\n",
       "<style scoped>\n",
       "    .dataframe tbody tr th:only-of-type {\n",
       "        vertical-align: middle;\n",
       "    }\n",
       "\n",
       "    .dataframe tbody tr th {\n",
       "        vertical-align: top;\n",
       "    }\n",
       "\n",
       "    .dataframe thead th {\n",
       "        text-align: right;\n",
       "    }\n",
       "</style>\n",
       "<table border=\"1\" class=\"dataframe\">\n",
       "  <thead>\n",
       "    <tr style=\"text-align: right;\">\n",
       "      <th></th>\n",
       "      <th>targName</th>\n",
       "      <th>raDeg</th>\n",
       "      <th>decDeg</th>\n",
       "      <th>fieldID</th>\n",
       "      <th>filter</th>\n",
       "      <th>visitExpTime</th>\n",
       "      <th>priority</th>\n",
       "      <th>progPI</th>\n",
       "      <th>progName</th>\n",
       "      <th>progID</th>\n",
       "      <th>validStart</th>\n",
       "      <th>validStop</th>\n",
       "      <th>observed</th>\n",
       "      <th>maxAirmass</th>\n",
       "      <th>ditherNumber</th>\n",
       "      <th>ditherStepSize</th>\n",
       "      <th>obsHistID</th>\n",
       "    </tr>\n",
       "  </thead>\n",
       "  <tbody>\n",
       "    <tr>\n",
       "      <th>0</th>\n",
       "      <td>ZTF23aaxeacr</td>\n",
       "      <td>249.131179</td>\n",
       "      <td>47.858962</td>\n",
       "      <td>999999999</td>\n",
       "      <td>Y</td>\n",
       "      <td>960.0</td>\n",
       "      <td>50.0</td>\n",
       "      <td>RStein</td>\n",
       "      <td>2024A001</td>\n",
       "      <td>3</td>\n",
       "      <td>60346.16885</td>\n",
       "      <td>60347.15885</td>\n",
       "      <td>False</td>\n",
       "      <td>2.0</td>\n",
       "      <td>8</td>\n",
       "      <td>30.0</td>\n",
       "      <td>0</td>\n",
       "    </tr>\n",
       "    <tr>\n",
       "      <th>1</th>\n",
       "      <td>ZTF23aaxeacr</td>\n",
       "      <td>249.131179</td>\n",
       "      <td>47.858962</td>\n",
       "      <td>999999999</td>\n",
       "      <td>J</td>\n",
       "      <td>960.0</td>\n",
       "      <td>50.0</td>\n",
       "      <td>RStein</td>\n",
       "      <td>2024A001</td>\n",
       "      <td>3</td>\n",
       "      <td>60346.16885</td>\n",
       "      <td>60347.15885</td>\n",
       "      <td>False</td>\n",
       "      <td>2.0</td>\n",
       "      <td>8</td>\n",
       "      <td>30.0</td>\n",
       "      <td>1</td>\n",
       "    </tr>\n",
       "    <tr>\n",
       "      <th>2</th>\n",
       "      <td>ZTF23aaxeacr</td>\n",
       "      <td>249.131179</td>\n",
       "      <td>47.858962</td>\n",
       "      <td>999999999</td>\n",
       "      <td>Hs</td>\n",
       "      <td>960.0</td>\n",
       "      <td>50.0</td>\n",
       "      <td>RStein</td>\n",
       "      <td>2024A001</td>\n",
       "      <td>3</td>\n",
       "      <td>60346.16885</td>\n",
       "      <td>60347.15885</td>\n",
       "      <td>False</td>\n",
       "      <td>2.0</td>\n",
       "      <td>15</td>\n",
       "      <td>30.0</td>\n",
       "      <td>2</td>\n",
       "    </tr>\n",
       "  </tbody>\n",
       "</table>\n",
       "</div>"
      ],
      "text/plain": [
       "       targName       raDeg     decDeg    fieldID filter  visitExpTime  \\\n",
       "0  ZTF23aaxeacr  249.131179  47.858962  999999999      Y         960.0   \n",
       "1  ZTF23aaxeacr  249.131179  47.858962  999999999      J         960.0   \n",
       "2  ZTF23aaxeacr  249.131179  47.858962  999999999     Hs         960.0   \n",
       "\n",
       "   priority  progPI  progName  progID   validStart    validStop  observed  \\\n",
       "0      50.0  RStein  2024A001       3  60346.16885  60347.15885     False   \n",
       "1      50.0  RStein  2024A001       3  60346.16885  60347.15885     False   \n",
       "2      50.0  RStein  2024A001       3  60346.16885  60347.15885     False   \n",
       "\n",
       "   maxAirmass  ditherNumber  ditherStepSize  obsHistID  \n",
       "0         2.0             8            30.0          0  \n",
       "1         2.0             8            30.0          1  \n",
       "2         2.0            15            30.0          2  "
      ]
     },
     "execution_count": 14,
     "metadata": {},
     "output_type": "execute_result"
    }
   ],
   "source": [
    "# This is the schedule sent back by the API. Reassuringly, it matches the local one\n",
    "api_schedule"
   ]
  },
  {
   "cell_type": "code",
   "execution_count": null,
   "id": "ba9f510f",
   "metadata": {},
   "outputs": [],
   "source": []
  }
 ],
 "metadata": {
  "kernelspec": {
   "display_name": "winterapi",
   "language": "python",
   "name": "winterapi"
  },
  "language_info": {
   "codemirror_mode": {
    "name": "ipython",
    "version": 3
   },
   "file_extension": ".py",
   "mimetype": "text/x-python",
   "name": "python",
   "nbconvert_exporter": "python",
   "pygments_lexer": "ipython3",
   "version": "3.11.3"
  }
 },
 "nbformat": 4,
 "nbformat_minor": 5
}
