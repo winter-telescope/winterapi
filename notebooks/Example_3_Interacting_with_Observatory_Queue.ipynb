{
 "cells": [
  {
   "cell_type": "code",
   "execution_count": 1,
   "id": "f91a536f",
   "metadata": {},
   "outputs": [],
   "source": [
    "import logging\n",
    "from winterapi import WinterAPI\n",
    "from wintertoo.models import WinterRaDecToO"
   ]
  },
  {
   "cell_type": "code",
   "execution_count": 2,
   "id": "5e92d4e2",
   "metadata": {},
   "outputs": [],
   "source": [
    "logging.getLogger(\"winterapi\").setLevel(\"DEBUG\")"
   ]
  },
  {
   "cell_type": "code",
   "execution_count": 3,
   "id": "ba9823d9",
   "metadata": {},
   "outputs": [],
   "source": [
    "winter = WinterAPI()"
   ]
  },
  {
   "cell_type": "markdown",
   "id": "3370c4d8",
   "metadata": {},
   "source": [
    "# Getting a summary of your queued ToOs"
   ]
  },
  {
   "cell_type": "markdown",
   "id": "db3b7f84",
   "metadata": {},
   "source": [
    "After you've submitted your ToOs, you might wonder how they are doing in the queue. You can find this out using the API."
   ]
  },
  {
   "cell_type": "code",
   "execution_count": 4,
   "id": "202aa614",
   "metadata": {},
   "outputs": [],
   "source": [
    "program_name = \"2024A000\""
   ]
  },
  {
   "cell_type": "code",
   "execution_count": 5,
   "id": "03095da8",
   "metadata": {},
   "outputs": [],
   "source": [
    "res, queue = winter.get_observatory_queue(program_name=program_name)"
   ]
  },
  {
   "cell_type": "code",
   "execution_count": 6,
   "id": "38524494",
   "metadata": {},
   "outputs": [
    {
     "data": {
      "text/plain": [
       "'Returning schedule summary for 2024A000'"
      ]
     },
     "execution_count": 6,
     "metadata": {},
     "output_type": "execute_result"
    }
   ],
   "source": [
    "res.json()[\"msg\"]"
   ]
  },
  {
   "cell_type": "code",
   "execution_count": 7,
   "id": "1621a452",
   "metadata": {
    "scrolled": true
   },
   "outputs": [
    {
     "data": {
      "text/html": [
       "<div>\n",
       "<style scoped>\n",
       "    .dataframe tbody tr th:only-of-type {\n",
       "        vertical-align: middle;\n",
       "    }\n",
       "\n",
       "    .dataframe tbody tr th {\n",
       "        vertical-align: top;\n",
       "    }\n",
       "\n",
       "    .dataframe thead th {\n",
       "        text-align: right;\n",
       "    }\n",
       "</style>\n",
       "<table border=\"1\" class=\"dataframe\">\n",
       "  <thead>\n",
       "    <tr style=\"text-align: right;\">\n",
       "      <th></th>\n",
       "      <th>prog_name</th>\n",
       "      <th>attempted_frac</th>\n",
       "      <th>too_schedule_name</th>\n",
       "      <th>target_names</th>\n",
       "      <th>n_entries</th>\n",
       "      <th>total_time_hours</th>\n",
       "      <th>window_start</th>\n",
       "      <th>window_end</th>\n",
       "    </tr>\n",
       "  </thead>\n",
       "  <tbody>\n",
       "    <tr>\n",
       "      <th>2</th>\n",
       "      <td>2024A000</td>\n",
       "      <td>0.333333</td>\n",
       "      <td>request_2024A000_2024_02_11_10_11_56</td>\n",
       "      <td>[ZTF24aaecooj]</td>\n",
       "      <td>3</td>\n",
       "      <td>0.800000</td>\n",
       "      <td>2024-02-11 18:11:25.995</td>\n",
       "      <td>2024-04-18 18:11:25.996</td>\n",
       "    </tr>\n",
       "    <tr>\n",
       "      <th>3</th>\n",
       "      <td>2024A000</td>\n",
       "      <td>0.000000</td>\n",
       "      <td>request_2024A000_2024_02_26_11_08_34</td>\n",
       "      <td>[ZTF24aaetnsm]</td>\n",
       "      <td>1</td>\n",
       "      <td>0.266667</td>\n",
       "      <td>2024-02-26 00:00:00.000</td>\n",
       "      <td>2024-03-06 00:00:00.000</td>\n",
       "    </tr>\n",
       "    <tr>\n",
       "      <th>4</th>\n",
       "      <td>2024A000</td>\n",
       "      <td>0.000000</td>\n",
       "      <td>request_2024A000_2024_02_26_11_09_22</td>\n",
       "      <td>[ZTF24aaetnsm]</td>\n",
       "      <td>1</td>\n",
       "      <td>0.266667</td>\n",
       "      <td>2024-02-26 00:00:00.000</td>\n",
       "      <td>2024-03-06 00:00:00.000</td>\n",
       "    </tr>\n",
       "    <tr>\n",
       "      <th>5</th>\n",
       "      <td>2024A000</td>\n",
       "      <td>0.000000</td>\n",
       "      <td>request_2024A000_2024_02_26_11_09_55</td>\n",
       "      <td>[ZTF24aaetnsm]</td>\n",
       "      <td>1</td>\n",
       "      <td>0.250000</td>\n",
       "      <td>2024-02-26 00:00:00.000</td>\n",
       "      <td>2024-03-06 00:00:00.000</td>\n",
       "    </tr>\n",
       "    <tr>\n",
       "      <th>6</th>\n",
       "      <td>2024A000</td>\n",
       "      <td>0.000000</td>\n",
       "      <td>request_2024A000_2024_02_27_12_23_18</td>\n",
       "      <td>[ZTF20abwtifz]</td>\n",
       "      <td>2</td>\n",
       "      <td>0.533333</td>\n",
       "      <td>2024-02-27 20:35:19.278</td>\n",
       "      <td>2024-02-28 20:20:55.279</td>\n",
       "    </tr>\n",
       "  </tbody>\n",
       "</table>\n",
       "</div>"
      ],
      "text/plain": [
       "  prog_name  attempted_frac                     too_schedule_name  \\\n",
       "2  2024A000        0.333333  request_2024A000_2024_02_11_10_11_56   \n",
       "3  2024A000        0.000000  request_2024A000_2024_02_26_11_08_34   \n",
       "4  2024A000        0.000000  request_2024A000_2024_02_26_11_09_22   \n",
       "5  2024A000        0.000000  request_2024A000_2024_02_26_11_09_55   \n",
       "6  2024A000        0.000000  request_2024A000_2024_02_27_12_23_18   \n",
       "\n",
       "     target_names  n_entries  total_time_hours             window_start  \\\n",
       "2  [ZTF24aaecooj]          3          0.800000  2024-02-11 18:11:25.995   \n",
       "3  [ZTF24aaetnsm]          1          0.266667  2024-02-26 00:00:00.000   \n",
       "4  [ZTF24aaetnsm]          1          0.266667  2024-02-26 00:00:00.000   \n",
       "5  [ZTF24aaetnsm]          1          0.250000  2024-02-26 00:00:00.000   \n",
       "6  [ZTF20abwtifz]          2          0.533333  2024-02-27 20:35:19.278   \n",
       "\n",
       "                window_end  \n",
       "2  2024-04-18 18:11:25.996  \n",
       "3  2024-03-06 00:00:00.000  \n",
       "4  2024-03-06 00:00:00.000  \n",
       "5  2024-03-06 00:00:00.000  \n",
       "6  2024-02-28 20:20:55.279  "
      ]
     },
     "execution_count": 7,
     "metadata": {},
     "output_type": "execute_result"
    }
   ],
   "source": [
    "queue"
   ]
  },
  {
   "cell_type": "markdown",
   "id": "e6e88fea",
   "metadata": {},
   "source": [
    "# Checking an individual ToO"
   ]
  },
  {
   "cell_type": "markdown",
   "id": "b48e76c5",
   "metadata": {},
   "source": [
    "You can see when you submitted a ToO request, since the date is in the `too_schedule_name` name. Nonethless, let's imagine you have forgotten what request you submitted, and want to see what is in that schedule. We can use the schedule_details function to ask the API for this."
   ]
  },
  {
   "cell_type": "code",
   "execution_count": 8,
   "id": "877ed48e",
   "metadata": {},
   "outputs": [],
   "source": [
    "schedule_name = \"request_2024A000_2024_02_27_12_23_18\""
   ]
  },
  {
   "cell_type": "code",
   "execution_count": 9,
   "id": "463289d3",
   "metadata": {},
   "outputs": [
    {
     "data": {
      "text/plain": [
       "'Returning details of schedule request_2024A000_2024_02_27_12_23_18'"
      ]
     },
     "execution_count": 9,
     "metadata": {},
     "output_type": "execute_result"
    }
   ],
   "source": [
    "res, too_request = winter.get_too_details(\n",
    "    too_schedule_name=schedule_name,\n",
    "    program_name=program_name\n",
    ")\n",
    "res.json()[\"msg\"]"
   ]
  },
  {
   "cell_type": "code",
   "execution_count": 10,
   "id": "48b9dd11",
   "metadata": {},
   "outputs": [
    {
     "data": {
      "text/html": [
       "<div>\n",
       "<style scoped>\n",
       "    .dataframe tbody tr th:only-of-type {\n",
       "        vertical-align: middle;\n",
       "    }\n",
       "\n",
       "    .dataframe tbody tr th {\n",
       "        vertical-align: top;\n",
       "    }\n",
       "\n",
       "    .dataframe thead th {\n",
       "        text-align: right;\n",
       "    }\n",
       "</style>\n",
       "<table border=\"1\" class=\"dataframe\">\n",
       "  <thead>\n",
       "    <tr style=\"text-align: right;\">\n",
       "      <th></th>\n",
       "      <th>targName</th>\n",
       "      <th>raDeg</th>\n",
       "      <th>decDeg</th>\n",
       "      <th>fieldID</th>\n",
       "      <th>filter</th>\n",
       "      <th>visitExpTime</th>\n",
       "      <th>singleExpTime</th>\n",
       "      <th>priority</th>\n",
       "      <th>progPI</th>\n",
       "      <th>progName</th>\n",
       "      <th>progID</th>\n",
       "      <th>validStart</th>\n",
       "      <th>validStop</th>\n",
       "      <th>observed</th>\n",
       "      <th>maxAirmass</th>\n",
       "      <th>ditherNumber</th>\n",
       "      <th>ditherStepSize</th>\n",
       "      <th>bestDetector</th>\n",
       "      <th>obsHistID</th>\n",
       "    </tr>\n",
       "  </thead>\n",
       "  <tbody>\n",
       "    <tr>\n",
       "      <th>0</th>\n",
       "      <td>ZTF20abwtifz</td>\n",
       "      <td>48.398612</td>\n",
       "      <td>-2.151724</td>\n",
       "      <td>999999999</td>\n",
       "      <td>J</td>\n",
       "      <td>960.0</td>\n",
       "      <td>120.0</td>\n",
       "      <td>50.0</td>\n",
       "      <td>MKasliwal</td>\n",
       "      <td>2024A000</td>\n",
       "      <td>3</td>\n",
       "      <td>60367.857862</td>\n",
       "      <td>60368.847862</td>\n",
       "      <td>0</td>\n",
       "      <td>2.0</td>\n",
       "      <td>8</td>\n",
       "      <td>30.0</td>\n",
       "      <td>1</td>\n",
       "      <td>0</td>\n",
       "    </tr>\n",
       "    <tr>\n",
       "      <th>1</th>\n",
       "      <td>ZTF20abwtifz</td>\n",
       "      <td>48.398612</td>\n",
       "      <td>-2.151724</td>\n",
       "      <td>999999999</td>\n",
       "      <td>Hs</td>\n",
       "      <td>960.0</td>\n",
       "      <td>64.0</td>\n",
       "      <td>50.0</td>\n",
       "      <td>MKasliwal</td>\n",
       "      <td>2024A000</td>\n",
       "      <td>3</td>\n",
       "      <td>60367.857862</td>\n",
       "      <td>60368.847862</td>\n",
       "      <td>0</td>\n",
       "      <td>2.0</td>\n",
       "      <td>15</td>\n",
       "      <td>30.0</td>\n",
       "      <td>1</td>\n",
       "      <td>1</td>\n",
       "    </tr>\n",
       "  </tbody>\n",
       "</table>\n",
       "</div>"
      ],
      "text/plain": [
       "       targName      raDeg    decDeg    fieldID filter  visitExpTime  \\\n",
       "0  ZTF20abwtifz  48.398612 -2.151724  999999999      J         960.0   \n",
       "1  ZTF20abwtifz  48.398612 -2.151724  999999999     Hs         960.0   \n",
       "\n",
       "   singleExpTime  priority     progPI  progName  progID    validStart  \\\n",
       "0          120.0      50.0  MKasliwal  2024A000       3  60367.857862   \n",
       "1           64.0      50.0  MKasliwal  2024A000       3  60367.857862   \n",
       "\n",
       "      validStop  observed  maxAirmass  ditherNumber  ditherStepSize  \\\n",
       "0  60368.847862         0         2.0             8            30.0   \n",
       "1  60368.847862         0         2.0            15            30.0   \n",
       "\n",
       "   bestDetector  obsHistID  \n",
       "0             1          0  \n",
       "1             1          1  "
      ]
     },
     "execution_count": 10,
     "metadata": {},
     "output_type": "execute_result"
    }
   ],
   "source": [
    "# Here we see that it's the request we submitted earlier!\n",
    "too_request"
   ]
  },
  {
   "cell_type": "markdown",
   "id": "15cf523b",
   "metadata": {},
   "source": [
    "# Deleting Requests"
   ]
  },
  {
   "cell_type": "markdown",
   "id": "43b972b0",
   "metadata": {},
   "source": [
    "Now let's imagine that you have made a horrible mistake! The dec of your target is actually 28 degrees, not 48.\n",
    "\n",
    "You need to urgently need to delete this request! Fornuately, there is a function for this too."
   ]
  },
  {
   "cell_type": "code",
   "execution_count": 11,
   "id": "14666fd9",
   "metadata": {
    "scrolled": false
   },
   "outputs": [
    {
     "data": {
      "text/plain": [
       "'Deleted request_2024A000_2024_02_27_12_23_18'"
      ]
     },
     "execution_count": 11,
     "metadata": {},
     "output_type": "execute_result"
    }
   ],
   "source": [
    "res = winter.delete_too_request(\n",
    "    too_schedule_name=schedule_name,\n",
    "    program_name=program_name\n",
    ")\n",
    "res.json()[\"msg\"]"
   ]
  },
  {
   "cell_type": "markdown",
   "id": "72477640",
   "metadata": {},
   "source": [
    "Let's just double check to make see there is no request left. **You may need to wait up to 1 minute before changes take appear.**"
   ]
  },
  {
   "cell_type": "code",
   "execution_count": 12,
   "id": "525f3d16",
   "metadata": {},
   "outputs": [
    {
     "name": "stdout",
     "output_type": "stream",
     "text": [
      "Returning schedule summary for 2024A000\n"
     ]
    },
    {
     "data": {
      "text/html": [
       "<div>\n",
       "<style scoped>\n",
       "    .dataframe tbody tr th:only-of-type {\n",
       "        vertical-align: middle;\n",
       "    }\n",
       "\n",
       "    .dataframe tbody tr th {\n",
       "        vertical-align: top;\n",
       "    }\n",
       "\n",
       "    .dataframe thead th {\n",
       "        text-align: right;\n",
       "    }\n",
       "</style>\n",
       "<table border=\"1\" class=\"dataframe\">\n",
       "  <thead>\n",
       "    <tr style=\"text-align: right;\">\n",
       "      <th></th>\n",
       "      <th>prog_name</th>\n",
       "      <th>attempted_frac</th>\n",
       "      <th>too_schedule_name</th>\n",
       "      <th>target_names</th>\n",
       "      <th>n_entries</th>\n",
       "      <th>total_time_hours</th>\n",
       "      <th>window_start</th>\n",
       "      <th>window_end</th>\n",
       "    </tr>\n",
       "  </thead>\n",
       "  <tbody>\n",
       "    <tr>\n",
       "      <th>2</th>\n",
       "      <td>2024A000</td>\n",
       "      <td>0.333333</td>\n",
       "      <td>request_2024A000_2024_02_11_10_11_56</td>\n",
       "      <td>[ZTF24aaecooj]</td>\n",
       "      <td>3</td>\n",
       "      <td>0.800000</td>\n",
       "      <td>2024-02-11 18:11:25.995</td>\n",
       "      <td>2024-04-18 18:11:25.996</td>\n",
       "    </tr>\n",
       "    <tr>\n",
       "      <th>3</th>\n",
       "      <td>2024A000</td>\n",
       "      <td>0.000000</td>\n",
       "      <td>request_2024A000_2024_02_26_11_08_34</td>\n",
       "      <td>[ZTF24aaetnsm]</td>\n",
       "      <td>1</td>\n",
       "      <td>0.266667</td>\n",
       "      <td>2024-02-26 00:00:00.000</td>\n",
       "      <td>2024-03-06 00:00:00.000</td>\n",
       "    </tr>\n",
       "    <tr>\n",
       "      <th>4</th>\n",
       "      <td>2024A000</td>\n",
       "      <td>0.000000</td>\n",
       "      <td>request_2024A000_2024_02_26_11_09_22</td>\n",
       "      <td>[ZTF24aaetnsm]</td>\n",
       "      <td>1</td>\n",
       "      <td>0.266667</td>\n",
       "      <td>2024-02-26 00:00:00.000</td>\n",
       "      <td>2024-03-06 00:00:00.000</td>\n",
       "    </tr>\n",
       "    <tr>\n",
       "      <th>5</th>\n",
       "      <td>2024A000</td>\n",
       "      <td>0.000000</td>\n",
       "      <td>request_2024A000_2024_02_26_11_09_55</td>\n",
       "      <td>[ZTF24aaetnsm]</td>\n",
       "      <td>1</td>\n",
       "      <td>0.250000</td>\n",
       "      <td>2024-02-26 00:00:00.000</td>\n",
       "      <td>2024-03-06 00:00:00.000</td>\n",
       "    </tr>\n",
       "  </tbody>\n",
       "</table>\n",
       "</div>"
      ],
      "text/plain": [
       "  prog_name  attempted_frac                     too_schedule_name  \\\n",
       "2  2024A000        0.333333  request_2024A000_2024_02_11_10_11_56   \n",
       "3  2024A000        0.000000  request_2024A000_2024_02_26_11_08_34   \n",
       "4  2024A000        0.000000  request_2024A000_2024_02_26_11_09_22   \n",
       "5  2024A000        0.000000  request_2024A000_2024_02_26_11_09_55   \n",
       "\n",
       "     target_names  n_entries  total_time_hours             window_start  \\\n",
       "2  [ZTF24aaecooj]          3          0.800000  2024-02-11 18:11:25.995   \n",
       "3  [ZTF24aaetnsm]          1          0.266667  2024-02-26 00:00:00.000   \n",
       "4  [ZTF24aaetnsm]          1          0.266667  2024-02-26 00:00:00.000   \n",
       "5  [ZTF24aaetnsm]          1          0.250000  2024-02-26 00:00:00.000   \n",
       "\n",
       "                window_end  \n",
       "2  2024-04-18 18:11:25.996  \n",
       "3  2024-03-06 00:00:00.000  \n",
       "4  2024-03-06 00:00:00.000  \n",
       "5  2024-03-06 00:00:00.000  "
      ]
     },
     "execution_count": 12,
     "metadata": {},
     "output_type": "execute_result"
    }
   ],
   "source": [
    "res, queue = winter.get_observatory_queue(program_name=program_name)\n",
    "print(res.json()[\"msg\"])\n",
    "queue"
   ]
  },
  {
   "cell_type": "markdown",
   "id": "15c58dd6",
   "metadata": {},
   "source": [
    "Fortunately the request has been removed, and the queue is empty!"
   ]
  },
  {
   "cell_type": "code",
   "execution_count": null,
   "id": "13e087c7",
   "metadata": {},
   "outputs": [],
   "source": []
  }
 ],
 "metadata": {
  "kernelspec": {
   "display_name": "winterapi",
   "language": "python",
   "name": "winterapi"
  },
  "language_info": {
   "codemirror_mode": {
    "name": "ipython",
    "version": 3
   },
   "file_extension": ".py",
   "mimetype": "text/x-python",
   "name": "python",
   "nbconvert_exporter": "python",
   "pygments_lexer": "ipython3",
   "version": "3.11.3"
  }
 },
 "nbformat": 4,
 "nbformat_minor": 5
}
