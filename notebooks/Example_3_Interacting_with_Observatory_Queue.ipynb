{
 "cells": [
  {
   "cell_type": "code",
   "execution_count": 1,
   "id": "f91a536f",
   "metadata": {},
   "outputs": [],
   "source": [
    "import logging\n",
    "from winterapi import WinterAPI\n",
    "from wintertoo.models import WinterRaDecToO"
   ]
  },
  {
   "cell_type": "code",
   "execution_count": 2,
   "id": "5e92d4e2",
   "metadata": {},
   "outputs": [],
   "source": [
    "logging.getLogger(\"winterapi\").setLevel(\"DEBUG\")"
   ]
  },
  {
   "cell_type": "code",
   "execution_count": 3,
   "id": "ba9823d9",
   "metadata": {},
   "outputs": [],
   "source": [
    "winter = WinterAPI()"
   ]
  },
  {
   "cell_type": "markdown",
   "id": "3370c4d8",
   "metadata": {},
   "source": [
    "# Getting a summary of your queued ToOs"
   ]
  },
  {
   "cell_type": "markdown",
   "id": "db3b7f84",
   "metadata": {},
   "source": [
    "After you've submitted your ToOs, you might wonder how they are doing in the queue. You can find this out using the API."
   ]
  },
  {
   "cell_type": "code",
   "execution_count": 4,
   "id": "202aa614",
   "metadata": {},
   "outputs": [],
   "source": [
    "program_name = \"2024A001\""
   ]
  },
  {
   "cell_type": "code",
   "execution_count": 5,
   "id": "03095da8",
   "metadata": {},
   "outputs": [],
   "source": [
    "res, queue = winter.get_observatory_queue(program_name=program_name)"
   ]
  },
  {
   "cell_type": "code",
   "execution_count": 6,
   "id": "38524494",
   "metadata": {},
   "outputs": [
    {
     "data": {
      "text/plain": [
       "'Returning schedule summary for 2024A001'"
      ]
     },
     "execution_count": 6,
     "metadata": {},
     "output_type": "execute_result"
    }
   ],
   "source": [
    "res.json()[\"msg\"]"
   ]
  },
  {
   "cell_type": "code",
   "execution_count": 7,
   "id": "1621a452",
   "metadata": {
    "scrolled": true
   },
   "outputs": [
    {
     "data": {
      "text/html": [
       "<div>\n",
       "<style scoped>\n",
       "    .dataframe tbody tr th:only-of-type {\n",
       "        vertical-align: middle;\n",
       "    }\n",
       "\n",
       "    .dataframe tbody tr th {\n",
       "        vertical-align: top;\n",
       "    }\n",
       "\n",
       "    .dataframe thead th {\n",
       "        text-align: right;\n",
       "    }\n",
       "</style>\n",
       "<table border=\"1\" class=\"dataframe\">\n",
       "  <thead>\n",
       "    <tr style=\"text-align: right;\">\n",
       "      <th></th>\n",
       "      <th>prog_name</th>\n",
       "      <th>observed_frac</th>\n",
       "      <th>too_schedule_name</th>\n",
       "      <th>target_names</th>\n",
       "      <th>n_entries</th>\n",
       "      <th>total_time_hours</th>\n",
       "      <th>window_start</th>\n",
       "      <th>window_end</th>\n",
       "    </tr>\n",
       "  </thead>\n",
       "  <tbody>\n",
       "    <tr>\n",
       "      <th>0</th>\n",
       "      <td>2024A001</td>\n",
       "      <td>0.0</td>\n",
       "      <td>request_2024A001_2024_02_05_19_49_26</td>\n",
       "      <td>[ZTF23aaxeacr]</td>\n",
       "      <td>3</td>\n",
       "      <td>0.8</td>\n",
       "      <td>2024-02-06 04:03:08.604</td>\n",
       "      <td>2024-02-07 03:48:44.605</td>\n",
       "    </tr>\n",
       "  </tbody>\n",
       "</table>\n",
       "</div>"
      ],
      "text/plain": [
       "  prog_name  observed_frac                     too_schedule_name  \\\n",
       "0  2024A001            0.0  request_2024A001_2024_02_05_19_49_26   \n",
       "\n",
       "     target_names  n_entries  total_time_hours             window_start  \\\n",
       "0  [ZTF23aaxeacr]          3               0.8  2024-02-06 04:03:08.604   \n",
       "\n",
       "                window_end  \n",
       "0  2024-02-07 03:48:44.605  "
      ]
     },
     "execution_count": 7,
     "metadata": {},
     "output_type": "execute_result"
    }
   ],
   "source": [
    "queue"
   ]
  },
  {
   "cell_type": "markdown",
   "id": "e6e88fea",
   "metadata": {},
   "source": [
    "# Checking an individual ToO"
   ]
  },
  {
   "cell_type": "markdown",
   "id": "b48e76c5",
   "metadata": {},
   "source": [
    "You can see when you submitted a ToO request, since the date is in the `too_schedule_name` name. Nonethless, let's imagine you have forgotten what request you submitted, and want to see what is in that schedule. We can use the schedule_details function to ask the API for this."
   ]
  },
  {
   "cell_type": "code",
   "execution_count": 8,
   "id": "877ed48e",
   "metadata": {},
   "outputs": [],
   "source": [
    "schedule_name = \"request_2024A001_2024_02_05_19_49_26\""
   ]
  },
  {
   "cell_type": "code",
   "execution_count": 9,
   "id": "463289d3",
   "metadata": {},
   "outputs": [
    {
     "data": {
      "text/plain": [
       "'Returning details of schedule request_2024A001_2024_02_05_19_49_26'"
      ]
     },
     "execution_count": 9,
     "metadata": {},
     "output_type": "execute_result"
    }
   ],
   "source": [
    "res, too_request = winter.get_too_details(\n",
    "    too_schedule_name=schedule_name,\n",
    "    program_name=program_name\n",
    ")\n",
    "res.json()[\"msg\"]"
   ]
  },
  {
   "cell_type": "code",
   "execution_count": 10,
   "id": "48b9dd11",
   "metadata": {},
   "outputs": [
    {
     "data": {
      "text/html": [
       "<div>\n",
       "<style scoped>\n",
       "    .dataframe tbody tr th:only-of-type {\n",
       "        vertical-align: middle;\n",
       "    }\n",
       "\n",
       "    .dataframe tbody tr th {\n",
       "        vertical-align: top;\n",
       "    }\n",
       "\n",
       "    .dataframe thead th {\n",
       "        text-align: right;\n",
       "    }\n",
       "</style>\n",
       "<table border=\"1\" class=\"dataframe\">\n",
       "  <thead>\n",
       "    <tr style=\"text-align: right;\">\n",
       "      <th></th>\n",
       "      <th>targName</th>\n",
       "      <th>raDeg</th>\n",
       "      <th>decDeg</th>\n",
       "      <th>fieldID</th>\n",
       "      <th>filter</th>\n",
       "      <th>visitExpTime</th>\n",
       "      <th>priority</th>\n",
       "      <th>progPI</th>\n",
       "      <th>progName</th>\n",
       "      <th>progID</th>\n",
       "      <th>validStart</th>\n",
       "      <th>validStop</th>\n",
       "      <th>observed</th>\n",
       "      <th>maxAirmass</th>\n",
       "      <th>ditherNumber</th>\n",
       "      <th>ditherStepSize</th>\n",
       "      <th>obsHistID</th>\n",
       "    </tr>\n",
       "  </thead>\n",
       "  <tbody>\n",
       "    <tr>\n",
       "      <th>0</th>\n",
       "      <td>ZTF23aaxeacr</td>\n",
       "      <td>249.131179</td>\n",
       "      <td>47.858962</td>\n",
       "      <td>999999999</td>\n",
       "      <td>Y</td>\n",
       "      <td>960.0</td>\n",
       "      <td>50.0</td>\n",
       "      <td>RStein</td>\n",
       "      <td>2024A001</td>\n",
       "      <td>3</td>\n",
       "      <td>60346.16885</td>\n",
       "      <td>60347.15885</td>\n",
       "      <td>0</td>\n",
       "      <td>2.0</td>\n",
       "      <td>8</td>\n",
       "      <td>30.0</td>\n",
       "      <td>0</td>\n",
       "    </tr>\n",
       "    <tr>\n",
       "      <th>1</th>\n",
       "      <td>ZTF23aaxeacr</td>\n",
       "      <td>249.131179</td>\n",
       "      <td>47.858962</td>\n",
       "      <td>999999999</td>\n",
       "      <td>J</td>\n",
       "      <td>960.0</td>\n",
       "      <td>50.0</td>\n",
       "      <td>RStein</td>\n",
       "      <td>2024A001</td>\n",
       "      <td>3</td>\n",
       "      <td>60346.16885</td>\n",
       "      <td>60347.15885</td>\n",
       "      <td>0</td>\n",
       "      <td>2.0</td>\n",
       "      <td>8</td>\n",
       "      <td>30.0</td>\n",
       "      <td>1</td>\n",
       "    </tr>\n",
       "    <tr>\n",
       "      <th>2</th>\n",
       "      <td>ZTF23aaxeacr</td>\n",
       "      <td>249.131179</td>\n",
       "      <td>47.858962</td>\n",
       "      <td>999999999</td>\n",
       "      <td>Hs</td>\n",
       "      <td>960.0</td>\n",
       "      <td>50.0</td>\n",
       "      <td>RStein</td>\n",
       "      <td>2024A001</td>\n",
       "      <td>3</td>\n",
       "      <td>60346.16885</td>\n",
       "      <td>60347.15885</td>\n",
       "      <td>0</td>\n",
       "      <td>2.0</td>\n",
       "      <td>15</td>\n",
       "      <td>30.0</td>\n",
       "      <td>2</td>\n",
       "    </tr>\n",
       "  </tbody>\n",
       "</table>\n",
       "</div>"
      ],
      "text/plain": [
       "       targName       raDeg     decDeg    fieldID filter  visitExpTime  \\\n",
       "0  ZTF23aaxeacr  249.131179  47.858962  999999999      Y         960.0   \n",
       "1  ZTF23aaxeacr  249.131179  47.858962  999999999      J         960.0   \n",
       "2  ZTF23aaxeacr  249.131179  47.858962  999999999     Hs         960.0   \n",
       "\n",
       "   priority  progPI  progName  progID   validStart    validStop  observed  \\\n",
       "0      50.0  RStein  2024A001       3  60346.16885  60347.15885         0   \n",
       "1      50.0  RStein  2024A001       3  60346.16885  60347.15885         0   \n",
       "2      50.0  RStein  2024A001       3  60346.16885  60347.15885         0   \n",
       "\n",
       "   maxAirmass  ditherNumber  ditherStepSize  obsHistID  \n",
       "0         2.0             8            30.0          0  \n",
       "1         2.0             8            30.0          1  \n",
       "2         2.0            15            30.0          2  "
      ]
     },
     "execution_count": 10,
     "metadata": {},
     "output_type": "execute_result"
    }
   ],
   "source": [
    "# Here we see that it's the request we submitted earlier!\n",
    "too_request"
   ]
  },
  {
   "cell_type": "markdown",
   "id": "15cf523b",
   "metadata": {},
   "source": [
    "# Deleting Requests"
   ]
  },
  {
   "cell_type": "markdown",
   "id": "43b972b0",
   "metadata": {},
   "source": [
    "Now let's imagine that you have made a horrible mistake! The dec of your target is actually 28 degrees, not 48.\n",
    "\n",
    "You need to urgently need to delete this request! Fornuately, there is a function for this too."
   ]
  },
  {
   "cell_type": "code",
   "execution_count": 11,
   "id": "14666fd9",
   "metadata": {
    "scrolled": false
   },
   "outputs": [
    {
     "data": {
      "text/plain": [
       "'Deleted request_2024A001_2024_02_05_19_49_26'"
      ]
     },
     "execution_count": 11,
     "metadata": {},
     "output_type": "execute_result"
    }
   ],
   "source": [
    "res = winter.delete_too_request(\n",
    "    too_schedule_name=schedule_name,\n",
    "    program_name=program_name\n",
    ")\n",
    "res.json()[\"msg\"]"
   ]
  },
  {
   "cell_type": "markdown",
   "id": "72477640",
   "metadata": {},
   "source": [
    "Let's just double check to make see there is no request left. **You may need to wait up to 1 minute before changes take appear.**"
   ]
  },
  {
   "cell_type": "code",
   "execution_count": 14,
   "id": "525f3d16",
   "metadata": {},
   "outputs": [
    {
     "name": "stdout",
     "output_type": "stream",
     "text": [
      "No active schedules found for 2024A001\n"
     ]
    },
    {
     "data": {
      "text/html": [
       "<div>\n",
       "<style scoped>\n",
       "    .dataframe tbody tr th:only-of-type {\n",
       "        vertical-align: middle;\n",
       "    }\n",
       "\n",
       "    .dataframe tbody tr th {\n",
       "        vertical-align: top;\n",
       "    }\n",
       "\n",
       "    .dataframe thead th {\n",
       "        text-align: right;\n",
       "    }\n",
       "</style>\n",
       "<table border=\"1\" class=\"dataframe\">\n",
       "  <thead>\n",
       "    <tr style=\"text-align: right;\">\n",
       "      <th></th>\n",
       "    </tr>\n",
       "  </thead>\n",
       "  <tbody>\n",
       "  </tbody>\n",
       "</table>\n",
       "</div>"
      ],
      "text/plain": [
       "Empty DataFrame\n",
       "Columns: []\n",
       "Index: []"
      ]
     },
     "execution_count": 14,
     "metadata": {},
     "output_type": "execute_result"
    }
   ],
   "source": [
    "res, queue = winter.get_observatory_queue(program_name=program_name)\n",
    "print(res.json()[\"msg\"])\n",
    "queue"
   ]
  },
  {
   "cell_type": "markdown",
   "id": "15c58dd6",
   "metadata": {},
   "source": [
    "Fortunately the request has been removed, and the queue is empty!"
   ]
  },
  {
   "cell_type": "code",
   "execution_count": null,
   "id": "13e087c7",
   "metadata": {},
   "outputs": [],
   "source": []
  }
 ],
 "metadata": {
  "kernelspec": {
   "display_name": "winterapi",
   "language": "python",
   "name": "winterapi"
  },
  "language_info": {
   "codemirror_mode": {
    "name": "ipython",
    "version": 3
   },
   "file_extension": ".py",
   "mimetype": "text/x-python",
   "name": "python",
   "nbconvert_exporter": "python",
   "pygments_lexer": "ipython3",
   "version": "3.11.3"
  }
 },
 "nbformat": 4,
 "nbformat_minor": 5
}
