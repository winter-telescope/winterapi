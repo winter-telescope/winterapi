{
 "cells": [
  {
   "cell_type": "code",
   "execution_count": 1,
   "id": "f91a536f",
   "metadata": {},
   "outputs": [],
   "source": [
    "import logging\n",
    "from winterapi import WinterAPI\n",
    "from wintertoo.models import ProgramImageQuery"
   ]
  },
  {
   "cell_type": "code",
   "execution_count": 2,
   "id": "5e92d4e2",
   "metadata": {},
   "outputs": [],
   "source": [
    "logging.getLogger(\"winterapi\").setLevel(\"DEBUG\")"
   ]
  },
  {
   "cell_type": "code",
   "execution_count": 3,
   "id": "ba9823d9",
   "metadata": {},
   "outputs": [],
   "source": [
    "winter = WinterAPI()"
   ]
  },
  {
   "cell_type": "code",
   "execution_count": 4,
   "id": "13e087c7",
   "metadata": {},
   "outputs": [],
   "source": [
    "program_name = winter.get_programs()[0]"
   ]
  },
  {
   "cell_type": "markdown",
   "id": "179e69d0",
   "metadata": {},
   "source": [
    "# Query by program"
   ]
  },
  {
   "cell_type": "code",
   "execution_count": 5,
   "id": "b8c16182",
   "metadata": {},
   "outputs": [
    {
     "name": "stdout",
     "output_type": "stream",
     "text": [
      "Querying images for 202XA000 between 20230701 and 20240202 of type 'exposure'\n"
     ]
    }
   ],
   "source": [
    "res, images = winter.query_images_by_program(program_name, start_date=\"20230701\", image_type=\"exposure\")"
   ]
  },
  {
   "cell_type": "code",
   "execution_count": 6,
   "id": "0af1415d",
   "metadata": {},
   "outputs": [
    {
     "data": {
      "text/plain": [
       "'Request passed validation! Found 7 images.'"
      ]
     },
     "execution_count": 6,
     "metadata": {},
     "output_type": "execute_result"
    }
   ],
   "source": [
    "res.json()[\"msg\"]"
   ]
  },
  {
   "cell_type": "code",
   "execution_count": 7,
   "id": "68525bf4",
   "metadata": {
    "scrolled": false
   },
   "outputs": [
    {
     "data": {
      "text/html": [
       "<div>\n",
       "<style scoped>\n",
       "    .dataframe tbody tr th:only-of-type {\n",
       "        vertical-align: middle;\n",
       "    }\n",
       "\n",
       "    .dataframe tbody tr th {\n",
       "        vertical-align: top;\n",
       "    }\n",
       "\n",
       "    .dataframe thead th {\n",
       "        text-align: right;\n",
       "    }\n",
       "</style>\n",
       "<table border=\"1\" class=\"dataframe\">\n",
       "  <thead>\n",
       "    <tr style=\"text-align: right;\">\n",
       "      <th></th>\n",
       "      <th>progname</th>\n",
       "      <th>nightdate</th>\n",
       "      <th>ra</th>\n",
       "      <th>dec</th>\n",
       "      <th>fid</th>\n",
       "      <th>utctime</th>\n",
       "      <th>fieldid</th>\n",
       "    </tr>\n",
       "  </thead>\n",
       "  <tbody>\n",
       "    <tr>\n",
       "      <th>0</th>\n",
       "      <td>202XA000</td>\n",
       "      <td>2023-07-27</td>\n",
       "      <td>211.564014</td>\n",
       "      <td>54.000018</td>\n",
       "      <td>2</td>\n",
       "      <td>2023-07-27T10:53:57.778000+00:00</td>\n",
       "      <td>3944</td>\n",
       "    </tr>\n",
       "    <tr>\n",
       "      <th>1</th>\n",
       "      <td>202XA000</td>\n",
       "      <td>2023-07-27</td>\n",
       "      <td>211.603932</td>\n",
       "      <td>53.980763</td>\n",
       "      <td>2</td>\n",
       "      <td>2023-07-27T10:56:04.654000+00:00</td>\n",
       "      <td>3944</td>\n",
       "    </tr>\n",
       "    <tr>\n",
       "      <th>2</th>\n",
       "      <td>202XA000</td>\n",
       "      <td>2023-07-27</td>\n",
       "      <td>211.600961</td>\n",
       "      <td>53.953119</td>\n",
       "      <td>2</td>\n",
       "      <td>2023-07-27T10:58:11.748000+00:00</td>\n",
       "      <td>3944</td>\n",
       "    </tr>\n",
       "    <tr>\n",
       "      <th>3</th>\n",
       "      <td>202XA000</td>\n",
       "      <td>2023-07-27</td>\n",
       "      <td>211.484563</td>\n",
       "      <td>53.959085</td>\n",
       "      <td>2</td>\n",
       "      <td>2023-07-27T11:00:18.851000+00:00</td>\n",
       "      <td>3944</td>\n",
       "    </tr>\n",
       "    <tr>\n",
       "      <th>4</th>\n",
       "      <td>202XA000</td>\n",
       "      <td>2023-07-27</td>\n",
       "      <td>211.463750</td>\n",
       "      <td>53.989283</td>\n",
       "      <td>2</td>\n",
       "      <td>2023-07-27T11:02:25.732000+00:00</td>\n",
       "      <td>3944</td>\n",
       "    </tr>\n",
       "    <tr>\n",
       "      <th>5</th>\n",
       "      <td>202XA000</td>\n",
       "      <td>2023-07-27</td>\n",
       "      <td>312.599911</td>\n",
       "      <td>60.077086</td>\n",
       "      <td>4</td>\n",
       "      <td>2023-07-27T14:07:28.205000+00:00</td>\n",
       "      <td>999999999</td>\n",
       "    </tr>\n",
       "    <tr>\n",
       "      <th>6</th>\n",
       "      <td>202XA000</td>\n",
       "      <td>2023-07-27</td>\n",
       "      <td>313.120070</td>\n",
       "      <td>60.076267</td>\n",
       "      <td>4</td>\n",
       "      <td>2023-07-27T14:09:33.167000+00:00</td>\n",
       "      <td>999999999</td>\n",
       "    </tr>\n",
       "  </tbody>\n",
       "</table>\n",
       "</div>"
      ],
      "text/plain": [
       "   progname   nightdate          ra        dec  fid  \\\n",
       "0  202XA000  2023-07-27  211.564014  54.000018    2   \n",
       "1  202XA000  2023-07-27  211.603932  53.980763    2   \n",
       "2  202XA000  2023-07-27  211.600961  53.953119    2   \n",
       "3  202XA000  2023-07-27  211.484563  53.959085    2   \n",
       "4  202XA000  2023-07-27  211.463750  53.989283    2   \n",
       "5  202XA000  2023-07-27  312.599911  60.077086    4   \n",
       "6  202XA000  2023-07-27  313.120070  60.076267    4   \n",
       "\n",
       "                            utctime    fieldid  \n",
       "0  2023-07-27T10:53:57.778000+00:00       3944  \n",
       "1  2023-07-27T10:56:04.654000+00:00       3944  \n",
       "2  2023-07-27T10:58:11.748000+00:00       3944  \n",
       "3  2023-07-27T11:00:18.851000+00:00       3944  \n",
       "4  2023-07-27T11:02:25.732000+00:00       3944  \n",
       "5  2023-07-27T14:07:28.205000+00:00  999999999  \n",
       "6  2023-07-27T14:09:33.167000+00:00  999999999  "
      ]
     },
     "execution_count": 7,
     "metadata": {},
     "output_type": "execute_result"
    }
   ],
   "source": [
    "images"
   ]
  },
  {
   "cell_type": "markdown",
   "id": "3a2c19cd",
   "metadata": {},
   "source": [
    "# Query by program and position (cone)"
   ]
  },
  {
   "cell_type": "markdown",
   "id": "2bc01c56",
   "metadata": {},
   "source": [
    "If you are triggering lots of requests, you might want to restrict yourself to a spatial position. \n",
    "You can search in a cone"
   ]
  },
  {
   "cell_type": "code",
   "execution_count": 8,
   "id": "6a832f90",
   "metadata": {},
   "outputs": [
    {
     "name": "stdout",
     "output_type": "stream",
     "text": [
      "Querying images for 202XA000 between 20230701 and 20240202 of type 'stack', with a radius of 1.0 degrees around 210.93872, 54.260963\n"
     ]
    }
   ],
   "source": [
    "res, images = winter.query_images_by_cone(program_name, start_date=\"20230701\", ra_deg=210.93872, dec_deg=54.260963)"
   ]
  },
  {
   "cell_type": "code",
   "execution_count": 9,
   "id": "f3b1a443",
   "metadata": {},
   "outputs": [
    {
     "data": {
      "text/plain": [
       "'Request passed validation! Found 1 images.'"
      ]
     },
     "execution_count": 9,
     "metadata": {},
     "output_type": "execute_result"
    }
   ],
   "source": [
    "res.json()[\"msg\"]"
   ]
  },
  {
   "cell_type": "code",
   "execution_count": 10,
   "id": "1e96a188",
   "metadata": {},
   "outputs": [
    {
     "data": {
      "text/html": [
       "<div>\n",
       "<style scoped>\n",
       "    .dataframe tbody tr th:only-of-type {\n",
       "        vertical-align: middle;\n",
       "    }\n",
       "\n",
       "    .dataframe tbody tr th {\n",
       "        vertical-align: top;\n",
       "    }\n",
       "\n",
       "    .dataframe thead th {\n",
       "        text-align: right;\n",
       "    }\n",
       "</style>\n",
       "<table border=\"1\" class=\"dataframe\">\n",
       "  <thead>\n",
       "    <tr style=\"text-align: right;\">\n",
       "      <th></th>\n",
       "      <th>progname</th>\n",
       "      <th>nightdate</th>\n",
       "      <th>ra</th>\n",
       "      <th>dec</th>\n",
       "      <th>fid</th>\n",
       "      <th>utctime</th>\n",
       "      <th>fieldid</th>\n",
       "      <th>savepath</th>\n",
       "    </tr>\n",
       "  </thead>\n",
       "  <tbody>\n",
       "    <tr>\n",
       "      <th>0</th>\n",
       "      <td>202XA000</td>\n",
       "      <td>2023-07-27</td>\n",
       "      <td>210.93872</td>\n",
       "      <td>54.260963</td>\n",
       "      <td>2</td>\n",
       "      <td>2023-07-27T10:53:57.778000+00:00</td>\n",
       "      <td>3944</td>\n",
       "      <td>/Users/robertstein/Data/winter/20230726/final/...</td>\n",
       "    </tr>\n",
       "  </tbody>\n",
       "</table>\n",
       "</div>"
      ],
      "text/plain": [
       "   progname   nightdate         ra        dec  fid  \\\n",
       "0  202XA000  2023-07-27  210.93872  54.260963    2   \n",
       "\n",
       "                            utctime  fieldid  \\\n",
       "0  2023-07-27T10:53:57.778000+00:00     3944   \n",
       "\n",
       "                                            savepath  \n",
       "0  /Users/robertstein/Data/winter/20230726/final/...  "
      ]
     },
     "execution_count": 10,
     "metadata": {},
     "output_type": "execute_result"
    }
   ],
   "source": [
    "images"
   ]
  },
  {
   "cell_type": "markdown",
   "id": "f5e13dd1",
   "metadata": {},
   "source": [
    "We see that we obtain a subset of the images in our program query! Specifically those centered at our chosen position, with a default search radius of 1 deg."
   ]
  },
  {
   "cell_type": "markdown",
   "id": "1cc70aa8",
   "metadata": {},
   "source": [
    "# Query by program and position (rectangle)"
   ]
  },
  {
   "cell_type": "markdown",
   "id": "11ae3977",
   "metadata": {},
   "source": [
    "You can also query with a rectangle"
   ]
  },
  {
   "cell_type": "code",
   "execution_count": 11,
   "id": "882eb586",
   "metadata": {},
   "outputs": [
    {
     "name": "stdout",
     "output_type": "stream",
     "text": [
      "Querying images for 202XA000 between 20230701 and 20240202 of type 'raw', with RA between 300.0 and 350.0 and Dec between 55.0 and 65.0\n"
     ]
    }
   ],
   "source": [
    "res, images = winter.query_images_by_rectangle(\n",
    "    program_name, start_date=\"20230701\",\n",
    "    ra_min_deg = 300., ra_max_deg=350., \n",
    "    dec_min_deg = 55., dec_max_deg = 65.,\n",
    "    image_type=\"raw\"\n",
    ")"
   ]
  },
  {
   "cell_type": "code",
   "execution_count": 12,
   "id": "f0a2561b",
   "metadata": {},
   "outputs": [
    {
     "data": {
      "text/plain": [
       "'Request passed validation! Found 2 images.'"
      ]
     },
     "execution_count": 12,
     "metadata": {},
     "output_type": "execute_result"
    }
   ],
   "source": [
    "res.json()[\"msg\"]"
   ]
  },
  {
   "cell_type": "code",
   "execution_count": 13,
   "id": "a634f907",
   "metadata": {},
   "outputs": [
    {
     "data": {
      "text/html": [
       "<div>\n",
       "<style scoped>\n",
       "    .dataframe tbody tr th:only-of-type {\n",
       "        vertical-align: middle;\n",
       "    }\n",
       "\n",
       "    .dataframe tbody tr th {\n",
       "        vertical-align: top;\n",
       "    }\n",
       "\n",
       "    .dataframe thead th {\n",
       "        text-align: right;\n",
       "    }\n",
       "</style>\n",
       "<table border=\"1\" class=\"dataframe\">\n",
       "  <thead>\n",
       "    <tr style=\"text-align: right;\">\n",
       "      <th></th>\n",
       "      <th>progname</th>\n",
       "      <th>nightdate</th>\n",
       "      <th>ra</th>\n",
       "      <th>dec</th>\n",
       "      <th>fid</th>\n",
       "      <th>utctime</th>\n",
       "      <th>fieldid</th>\n",
       "      <th>savepath</th>\n",
       "    </tr>\n",
       "  </thead>\n",
       "  <tbody>\n",
       "    <tr>\n",
       "      <th>0</th>\n",
       "      <td>202XA000</td>\n",
       "      <td>2023-07-27</td>\n",
       "      <td>312.599911</td>\n",
       "      <td>60.077086</td>\n",
       "      <td>4</td>\n",
       "      <td>2023-07-27T14:07:28.205000+00:00</td>\n",
       "      <td>999999999</td>\n",
       "      <td>/Users/robertstein/Data/winter/20230726/raw_un...</td>\n",
       "    </tr>\n",
       "    <tr>\n",
       "      <th>1</th>\n",
       "      <td>202XA000</td>\n",
       "      <td>2023-07-27</td>\n",
       "      <td>313.120070</td>\n",
       "      <td>60.076267</td>\n",
       "      <td>4</td>\n",
       "      <td>2023-07-27T14:09:33.167000+00:00</td>\n",
       "      <td>999999999</td>\n",
       "      <td>/Users/robertstein/Data/winter/20230726/raw_un...</td>\n",
       "    </tr>\n",
       "  </tbody>\n",
       "</table>\n",
       "</div>"
      ],
      "text/plain": [
       "   progname   nightdate          ra        dec  fid  \\\n",
       "0  202XA000  2023-07-27  312.599911  60.077086    4   \n",
       "1  202XA000  2023-07-27  313.120070  60.076267    4   \n",
       "\n",
       "                            utctime    fieldid  \\\n",
       "0  2023-07-27T14:07:28.205000+00:00  999999999   \n",
       "1  2023-07-27T14:09:33.167000+00:00  999999999   \n",
       "\n",
       "                                            savepath  \n",
       "0  /Users/robertstein/Data/winter/20230726/raw_un...  \n",
       "1  /Users/robertstein/Data/winter/20230726/raw_un...  "
      ]
     },
     "execution_count": 13,
     "metadata": {},
     "output_type": "execute_result"
    }
   ],
   "source": [
    "images"
   ]
  },
  {
   "cell_type": "markdown",
   "id": "d7198881",
   "metadata": {},
   "source": [
    "# Query different image types"
   ]
  },
  {
   "cell_type": "markdown",
   "id": "7dca7581",
   "metadata": {},
   "source": [
    "There are multiple types of image that can be queried by the API:"
   ]
  },
  {
   "cell_type": "code",
   "execution_count": 14,
   "id": "738dc40b",
   "metadata": {},
   "outputs": [
    {
     "name": "stdout",
     "output_type": "stream",
     "text": [
      "Querying images for 202XA000 between 20230701 and 20240202 of type 'exposure'\n"
     ]
    },
    {
     "data": {
      "text/html": [
       "<div>\n",
       "<style scoped>\n",
       "    .dataframe tbody tr th:only-of-type {\n",
       "        vertical-align: middle;\n",
       "    }\n",
       "\n",
       "    .dataframe tbody tr th {\n",
       "        vertical-align: top;\n",
       "    }\n",
       "\n",
       "    .dataframe thead th {\n",
       "        text-align: right;\n",
       "    }\n",
       "</style>\n",
       "<table border=\"1\" class=\"dataframe\">\n",
       "  <thead>\n",
       "    <tr style=\"text-align: right;\">\n",
       "      <th></th>\n",
       "      <th>progname</th>\n",
       "      <th>nightdate</th>\n",
       "      <th>ra</th>\n",
       "      <th>dec</th>\n",
       "      <th>fid</th>\n",
       "      <th>utctime</th>\n",
       "      <th>fieldid</th>\n",
       "    </tr>\n",
       "  </thead>\n",
       "  <tbody>\n",
       "    <tr>\n",
       "      <th>0</th>\n",
       "      <td>202XA000</td>\n",
       "      <td>2023-07-27</td>\n",
       "      <td>211.564014</td>\n",
       "      <td>54.000018</td>\n",
       "      <td>2</td>\n",
       "      <td>2023-07-27T10:53:57.778000+00:00</td>\n",
       "      <td>3944</td>\n",
       "    </tr>\n",
       "    <tr>\n",
       "      <th>1</th>\n",
       "      <td>202XA000</td>\n",
       "      <td>2023-07-27</td>\n",
       "      <td>211.603932</td>\n",
       "      <td>53.980763</td>\n",
       "      <td>2</td>\n",
       "      <td>2023-07-27T10:56:04.654000+00:00</td>\n",
       "      <td>3944</td>\n",
       "    </tr>\n",
       "    <tr>\n",
       "      <th>2</th>\n",
       "      <td>202XA000</td>\n",
       "      <td>2023-07-27</td>\n",
       "      <td>211.600961</td>\n",
       "      <td>53.953119</td>\n",
       "      <td>2</td>\n",
       "      <td>2023-07-27T10:58:11.748000+00:00</td>\n",
       "      <td>3944</td>\n",
       "    </tr>\n",
       "    <tr>\n",
       "      <th>3</th>\n",
       "      <td>202XA000</td>\n",
       "      <td>2023-07-27</td>\n",
       "      <td>211.484563</td>\n",
       "      <td>53.959085</td>\n",
       "      <td>2</td>\n",
       "      <td>2023-07-27T11:00:18.851000+00:00</td>\n",
       "      <td>3944</td>\n",
       "    </tr>\n",
       "    <tr>\n",
       "      <th>4</th>\n",
       "      <td>202XA000</td>\n",
       "      <td>2023-07-27</td>\n",
       "      <td>211.463750</td>\n",
       "      <td>53.989283</td>\n",
       "      <td>2</td>\n",
       "      <td>2023-07-27T11:02:25.732000+00:00</td>\n",
       "      <td>3944</td>\n",
       "    </tr>\n",
       "    <tr>\n",
       "      <th>5</th>\n",
       "      <td>202XA000</td>\n",
       "      <td>2023-07-27</td>\n",
       "      <td>312.599911</td>\n",
       "      <td>60.077086</td>\n",
       "      <td>4</td>\n",
       "      <td>2023-07-27T14:07:28.205000+00:00</td>\n",
       "      <td>999999999</td>\n",
       "    </tr>\n",
       "    <tr>\n",
       "      <th>6</th>\n",
       "      <td>202XA000</td>\n",
       "      <td>2023-07-27</td>\n",
       "      <td>313.120070</td>\n",
       "      <td>60.076267</td>\n",
       "      <td>4</td>\n",
       "      <td>2023-07-27T14:09:33.167000+00:00</td>\n",
       "      <td>999999999</td>\n",
       "    </tr>\n",
       "  </tbody>\n",
       "</table>\n",
       "</div>"
      ],
      "text/plain": [
       "   progname   nightdate          ra        dec  fid  \\\n",
       "0  202XA000  2023-07-27  211.564014  54.000018    2   \n",
       "1  202XA000  2023-07-27  211.603932  53.980763    2   \n",
       "2  202XA000  2023-07-27  211.600961  53.953119    2   \n",
       "3  202XA000  2023-07-27  211.484563  53.959085    2   \n",
       "4  202XA000  2023-07-27  211.463750  53.989283    2   \n",
       "5  202XA000  2023-07-27  312.599911  60.077086    4   \n",
       "6  202XA000  2023-07-27  313.120070  60.076267    4   \n",
       "\n",
       "                            utctime    fieldid  \n",
       "0  2023-07-27T10:53:57.778000+00:00       3944  \n",
       "1  2023-07-27T10:56:04.654000+00:00       3944  \n",
       "2  2023-07-27T10:58:11.748000+00:00       3944  \n",
       "3  2023-07-27T11:00:18.851000+00:00       3944  \n",
       "4  2023-07-27T11:02:25.732000+00:00       3944  \n",
       "5  2023-07-27T14:07:28.205000+00:00  999999999  \n",
       "6  2023-07-27T14:09:33.167000+00:00  999999999  "
      ]
     },
     "execution_count": 14,
     "metadata": {},
     "output_type": "execute_result"
    }
   ],
   "source": [
    "res, images = winter.query_images_by_program(program_name, start_date=\"20230701\", image_type=\"exposure\")\n",
    "images"
   ]
  },
  {
   "cell_type": "code",
   "execution_count": 15,
   "id": "c73fa604",
   "metadata": {},
   "outputs": [
    {
     "name": "stdout",
     "output_type": "stream",
     "text": [
      "Querying images for 202XA000 between 20230701 and 20240202 of type 'raw'\n"
     ]
    },
    {
     "data": {
      "text/html": [
       "<div>\n",
       "<style scoped>\n",
       "    .dataframe tbody tr th:only-of-type {\n",
       "        vertical-align: middle;\n",
       "    }\n",
       "\n",
       "    .dataframe tbody tr th {\n",
       "        vertical-align: top;\n",
       "    }\n",
       "\n",
       "    .dataframe thead th {\n",
       "        text-align: right;\n",
       "    }\n",
       "</style>\n",
       "<table border=\"1\" class=\"dataframe\">\n",
       "  <thead>\n",
       "    <tr style=\"text-align: right;\">\n",
       "      <th></th>\n",
       "      <th>progname</th>\n",
       "      <th>nightdate</th>\n",
       "      <th>ra</th>\n",
       "      <th>dec</th>\n",
       "      <th>fid</th>\n",
       "      <th>utctime</th>\n",
       "      <th>fieldid</th>\n",
       "      <th>savepath</th>\n",
       "    </tr>\n",
       "  </thead>\n",
       "  <tbody>\n",
       "    <tr>\n",
       "      <th>0</th>\n",
       "      <td>202XA000</td>\n",
       "      <td>2023-07-27</td>\n",
       "      <td>312.599911</td>\n",
       "      <td>60.077086</td>\n",
       "      <td>4</td>\n",
       "      <td>2023-07-27T14:07:28.205000+00:00</td>\n",
       "      <td>999999999</td>\n",
       "      <td>/Users/robertstein/Data/winter/20230726/raw_un...</td>\n",
       "    </tr>\n",
       "    <tr>\n",
       "      <th>1</th>\n",
       "      <td>202XA000</td>\n",
       "      <td>2023-07-27</td>\n",
       "      <td>313.120070</td>\n",
       "      <td>60.076267</td>\n",
       "      <td>4</td>\n",
       "      <td>2023-07-27T14:09:33.167000+00:00</td>\n",
       "      <td>999999999</td>\n",
       "      <td>/Users/robertstein/Data/winter/20230726/raw_un...</td>\n",
       "    </tr>\n",
       "    <tr>\n",
       "      <th>2</th>\n",
       "      <td>202XA000</td>\n",
       "      <td>2023-07-27</td>\n",
       "      <td>211.564014</td>\n",
       "      <td>54.000018</td>\n",
       "      <td>2</td>\n",
       "      <td>2023-07-27T10:53:57.778000+00:00</td>\n",
       "      <td>3944</td>\n",
       "      <td>/Users/robertstein/Data/winter/20230726/raw_un...</td>\n",
       "    </tr>\n",
       "    <tr>\n",
       "      <th>3</th>\n",
       "      <td>202XA000</td>\n",
       "      <td>2023-07-27</td>\n",
       "      <td>211.603932</td>\n",
       "      <td>53.980763</td>\n",
       "      <td>2</td>\n",
       "      <td>2023-07-27T10:56:04.654000+00:00</td>\n",
       "      <td>3944</td>\n",
       "      <td>/Users/robertstein/Data/winter/20230726/raw_un...</td>\n",
       "    </tr>\n",
       "    <tr>\n",
       "      <th>4</th>\n",
       "      <td>202XA000</td>\n",
       "      <td>2023-07-27</td>\n",
       "      <td>211.600961</td>\n",
       "      <td>53.953119</td>\n",
       "      <td>2</td>\n",
       "      <td>2023-07-27T10:58:11.748000+00:00</td>\n",
       "      <td>3944</td>\n",
       "      <td>/Users/robertstein/Data/winter/20230726/raw_un...</td>\n",
       "    </tr>\n",
       "    <tr>\n",
       "      <th>5</th>\n",
       "      <td>202XA000</td>\n",
       "      <td>2023-07-27</td>\n",
       "      <td>211.484563</td>\n",
       "      <td>53.959085</td>\n",
       "      <td>2</td>\n",
       "      <td>2023-07-27T11:00:18.851000+00:00</td>\n",
       "      <td>3944</td>\n",
       "      <td>/Users/robertstein/Data/winter/20230726/raw_un...</td>\n",
       "    </tr>\n",
       "    <tr>\n",
       "      <th>6</th>\n",
       "      <td>202XA000</td>\n",
       "      <td>2023-07-27</td>\n",
       "      <td>211.463750</td>\n",
       "      <td>53.989283</td>\n",
       "      <td>2</td>\n",
       "      <td>2023-07-27T11:02:25.732000+00:00</td>\n",
       "      <td>3944</td>\n",
       "      <td>/Users/robertstein/Data/winter/20230726/raw_un...</td>\n",
       "    </tr>\n",
       "  </tbody>\n",
       "</table>\n",
       "</div>"
      ],
      "text/plain": [
       "   progname   nightdate          ra        dec  fid  \\\n",
       "0  202XA000  2023-07-27  312.599911  60.077086    4   \n",
       "1  202XA000  2023-07-27  313.120070  60.076267    4   \n",
       "2  202XA000  2023-07-27  211.564014  54.000018    2   \n",
       "3  202XA000  2023-07-27  211.603932  53.980763    2   \n",
       "4  202XA000  2023-07-27  211.600961  53.953119    2   \n",
       "5  202XA000  2023-07-27  211.484563  53.959085    2   \n",
       "6  202XA000  2023-07-27  211.463750  53.989283    2   \n",
       "\n",
       "                            utctime    fieldid  \\\n",
       "0  2023-07-27T14:07:28.205000+00:00  999999999   \n",
       "1  2023-07-27T14:09:33.167000+00:00  999999999   \n",
       "2  2023-07-27T10:53:57.778000+00:00       3944   \n",
       "3  2023-07-27T10:56:04.654000+00:00       3944   \n",
       "4  2023-07-27T10:58:11.748000+00:00       3944   \n",
       "5  2023-07-27T11:00:18.851000+00:00       3944   \n",
       "6  2023-07-27T11:02:25.732000+00:00       3944   \n",
       "\n",
       "                                            savepath  \n",
       "0  /Users/robertstein/Data/winter/20230726/raw_un...  \n",
       "1  /Users/robertstein/Data/winter/20230726/raw_un...  \n",
       "2  /Users/robertstein/Data/winter/20230726/raw_un...  \n",
       "3  /Users/robertstein/Data/winter/20230726/raw_un...  \n",
       "4  /Users/robertstein/Data/winter/20230726/raw_un...  \n",
       "5  /Users/robertstein/Data/winter/20230726/raw_un...  \n",
       "6  /Users/robertstein/Data/winter/20230726/raw_un...  "
      ]
     },
     "execution_count": 15,
     "metadata": {},
     "output_type": "execute_result"
    }
   ],
   "source": [
    "res, images = winter.query_images_by_program(program_name, start_date=\"20230701\", image_type=\"raw\")\n",
    "images"
   ]
  },
  {
   "cell_type": "code",
   "execution_count": 16,
   "id": "c512205e",
   "metadata": {},
   "outputs": [
    {
     "name": "stdout",
     "output_type": "stream",
     "text": [
      "Querying images for 202XA000 between 20230701 and 20240202 of type 'stack'\n"
     ]
    },
    {
     "data": {
      "text/html": [
       "<div>\n",
       "<style scoped>\n",
       "    .dataframe tbody tr th:only-of-type {\n",
       "        vertical-align: middle;\n",
       "    }\n",
       "\n",
       "    .dataframe tbody tr th {\n",
       "        vertical-align: top;\n",
       "    }\n",
       "\n",
       "    .dataframe thead th {\n",
       "        text-align: right;\n",
       "    }\n",
       "</style>\n",
       "<table border=\"1\" class=\"dataframe\">\n",
       "  <thead>\n",
       "    <tr style=\"text-align: right;\">\n",
       "      <th></th>\n",
       "      <th>progname</th>\n",
       "      <th>nightdate</th>\n",
       "      <th>ra</th>\n",
       "      <th>dec</th>\n",
       "      <th>fid</th>\n",
       "      <th>utctime</th>\n",
       "      <th>fieldid</th>\n",
       "      <th>savepath</th>\n",
       "    </tr>\n",
       "  </thead>\n",
       "  <tbody>\n",
       "    <tr>\n",
       "      <th>0</th>\n",
       "      <td>202XA000</td>\n",
       "      <td>2023-07-27</td>\n",
       "      <td>210.93872</td>\n",
       "      <td>54.260963</td>\n",
       "      <td>2</td>\n",
       "      <td>2023-07-27T10:53:57.778000+00:00</td>\n",
       "      <td>3944</td>\n",
       "      <td>/Users/robertstein/Data/winter/20230726/final/...</td>\n",
       "    </tr>\n",
       "  </tbody>\n",
       "</table>\n",
       "</div>"
      ],
      "text/plain": [
       "   progname   nightdate         ra        dec  fid  \\\n",
       "0  202XA000  2023-07-27  210.93872  54.260963    2   \n",
       "\n",
       "                            utctime  fieldid  \\\n",
       "0  2023-07-27T10:53:57.778000+00:00     3944   \n",
       "\n",
       "                                            savepath  \n",
       "0  /Users/robertstein/Data/winter/20230726/final/...  "
      ]
     },
     "execution_count": 16,
     "metadata": {},
     "output_type": "execute_result"
    }
   ],
   "source": [
    "res, images = winter.query_images_by_program(program_name, start_date=\"20230701\", image_type=\"stack\")\n",
    "images"
   ]
  },
  {
   "cell_type": "code",
   "execution_count": 17,
   "id": "29c53ab5",
   "metadata": {},
   "outputs": [
    {
     "name": "stdout",
     "output_type": "stream",
     "text": [
      "Querying images for 202XA000 between 20230701 and 20240202 of type 'diff'\n"
     ]
    },
    {
     "data": {
      "text/html": [
       "<div>\n",
       "<style scoped>\n",
       "    .dataframe tbody tr th:only-of-type {\n",
       "        vertical-align: middle;\n",
       "    }\n",
       "\n",
       "    .dataframe tbody tr th {\n",
       "        vertical-align: top;\n",
       "    }\n",
       "\n",
       "    .dataframe thead th {\n",
       "        text-align: right;\n",
       "    }\n",
       "</style>\n",
       "<table border=\"1\" class=\"dataframe\">\n",
       "  <thead>\n",
       "    <tr style=\"text-align: right;\">\n",
       "      <th></th>\n",
       "      <th>progname</th>\n",
       "      <th>nightdate</th>\n",
       "      <th>ra</th>\n",
       "      <th>dec</th>\n",
       "      <th>fid</th>\n",
       "      <th>utctime</th>\n",
       "      <th>fieldid</th>\n",
       "      <th>savepath</th>\n",
       "    </tr>\n",
       "  </thead>\n",
       "  <tbody>\n",
       "    <tr>\n",
       "      <th>0</th>\n",
       "      <td>202XA000</td>\n",
       "      <td>2023-07-27</td>\n",
       "      <td>210.93872</td>\n",
       "      <td>54.260963</td>\n",
       "      <td>2</td>\n",
       "      <td>2023-07-27T10:53:57.778000+00:00</td>\n",
       "      <td>3944</td>\n",
       "      <td>/Users/robertstein/Data/winter/20230726/diffs/...</td>\n",
       "    </tr>\n",
       "  </tbody>\n",
       "</table>\n",
       "</div>"
      ],
      "text/plain": [
       "   progname   nightdate         ra        dec  fid  \\\n",
       "0  202XA000  2023-07-27  210.93872  54.260963    2   \n",
       "\n",
       "                            utctime  fieldid  \\\n",
       "0  2023-07-27T10:53:57.778000+00:00     3944   \n",
       "\n",
       "                                            savepath  \n",
       "0  /Users/robertstein/Data/winter/20230726/diffs/...  "
      ]
     },
     "execution_count": 17,
     "metadata": {},
     "output_type": "execute_result"
    }
   ],
   "source": [
    "res, images = winter.query_images_by_program(program_name, start_date=\"20230701\", image_type=\"diff\")\n",
    "images"
   ]
  },
  {
   "cell_type": "code",
   "execution_count": null,
   "id": "88983a1c",
   "metadata": {},
   "outputs": [],
   "source": []
  }
 ],
 "metadata": {
  "kernelspec": {
   "display_name": "winterapi",
   "language": "python",
   "name": "winterapi"
  },
  "language_info": {
   "codemirror_mode": {
    "name": "ipython",
    "version": 3
   },
   "file_extension": ".py",
   "mimetype": "text/x-python",
   "name": "python",
   "nbconvert_exporter": "python",
   "pygments_lexer": "ipython3",
   "version": "3.11.3"
  }
 },
 "nbformat": 4,
 "nbformat_minor": 5
}
