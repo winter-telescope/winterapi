{
 "cells": [
  {
   "cell_type": "code",
   "execution_count": 1,
   "id": "f91a536f",
   "metadata": {},
   "outputs": [],
   "source": [
    "import logging\n",
    "from winterapi import WinterAPI\n",
    "from wintertoo.models import ProgramImageQuery"
   ]
  },
  {
   "cell_type": "code",
   "execution_count": 2,
   "id": "5e92d4e2",
   "metadata": {},
   "outputs": [],
   "source": [
    "logging.getLogger(\"winterapi\").setLevel(\"DEBUG\")"
   ]
  },
  {
   "cell_type": "code",
   "execution_count": 3,
   "id": "ba9823d9",
   "metadata": {},
   "outputs": [],
   "source": [
    "winter = WinterAPI()"
   ]
  },
  {
   "cell_type": "code",
   "execution_count": 4,
   "id": "13e087c7",
   "metadata": {},
   "outputs": [],
   "source": [
    "program_name = winter.get_programs()[0]"
   ]
  },
  {
   "cell_type": "markdown",
   "id": "179e69d0",
   "metadata": {},
   "source": [
    "# Query by program"
   ]
  },
  {
   "cell_type": "code",
   "execution_count": 5,
   "id": "ea814ff4",
   "metadata": {},
   "outputs": [],
   "source": [
    "image_type = \"stack\""
   ]
  },
  {
   "cell_type": "code",
   "execution_count": 6,
   "id": "b8c16182",
   "metadata": {},
   "outputs": [
    {
     "name": "stdout",
     "output_type": "stream",
     "text": [
      "Querying images for 202XA000 between 20230701 and 20240205 of type 'stack'\n"
     ]
    },
    {
     "data": {
      "text/html": [
       "<div>\n",
       "<style scoped>\n",
       "    .dataframe tbody tr th:only-of-type {\n",
       "        vertical-align: middle;\n",
       "    }\n",
       "\n",
       "    .dataframe tbody tr th {\n",
       "        vertical-align: top;\n",
       "    }\n",
       "\n",
       "    .dataframe thead th {\n",
       "        text-align: right;\n",
       "    }\n",
       "</style>\n",
       "<table border=\"1\" class=\"dataframe\">\n",
       "  <thead>\n",
       "    <tr style=\"text-align: right;\">\n",
       "      <th></th>\n",
       "      <th>progname</th>\n",
       "      <th>nightdate</th>\n",
       "      <th>targname</th>\n",
       "      <th>ra</th>\n",
       "      <th>dec</th>\n",
       "      <th>fid</th>\n",
       "      <th>utctime</th>\n",
       "      <th>fieldid</th>\n",
       "      <th>image_type</th>\n",
       "      <th>savepath</th>\n",
       "    </tr>\n",
       "  </thead>\n",
       "  <tbody>\n",
       "    <tr>\n",
       "      <th>0</th>\n",
       "      <td>202XA000</td>\n",
       "      <td>2023-07-27</td>\n",
       "      <td>SN2023ixf</td>\n",
       "      <td>210.93872</td>\n",
       "      <td>54.260963</td>\n",
       "      <td>2</td>\n",
       "      <td>2023-07-27T10:53:57.778000+00:00</td>\n",
       "      <td>3944</td>\n",
       "      <td>stack</td>\n",
       "      <td>/Users/robertstein/Data/winter/20230726/final/...</td>\n",
       "    </tr>\n",
       "  </tbody>\n",
       "</table>\n",
       "</div>"
      ],
      "text/plain": [
       "   progname   nightdate   targname         ra        dec  fid  \\\n",
       "0  202XA000  2023-07-27  SN2023ixf  210.93872  54.260963    2   \n",
       "\n",
       "                            utctime  fieldid image_type  \\\n",
       "0  2023-07-27T10:53:57.778000+00:00     3944      stack   \n",
       "\n",
       "                                            savepath  \n",
       "0  /Users/robertstein/Data/winter/20230726/final/...  "
      ]
     },
     "execution_count": 6,
     "metadata": {},
     "output_type": "execute_result"
    }
   ],
   "source": [
    "# Let's start by doing an image query\n",
    "res, images = winter.query_images_by_program(program_name, start_date=\"20230701\", image_type=image_type)\n",
    "images"
   ]
  },
  {
   "cell_type": "markdown",
   "id": "b9642e4f",
   "metadata": {},
   "source": [
    "# Downloading a list of images"
   ]
  },
  {
   "cell_type": "code",
   "execution_count": 7,
   "id": "88983a1c",
   "metadata": {},
   "outputs": [
    {
     "data": {
      "text/plain": [
       "['/Users/robertstein/Data/winter/20230726/final/WINTERcamera_20230727-035357-778_mef_2_0_0_stack.fits']"
      ]
     },
     "execution_count": 7,
     "metadata": {},
     "output_type": "execute_result"
    }
   ],
   "source": [
    "# Let's say we want to download an image. What's the savepath?\n",
    "savepaths = images[\"savepath\"].tolist()\n",
    "savepaths"
   ]
  },
  {
   "cell_type": "markdown",
   "id": "ca13baee",
   "metadata": {},
   "source": [
    "We can use the API to download this file, or files, as a compressed zip. \n",
    "You must specify the type of image!"
   ]
  },
  {
   "cell_type": "code",
   "execution_count": 8,
   "id": "96ec4b1f",
   "metadata": {},
   "outputs": [
    {
     "name": "stderr",
     "output_type": "stream",
     "text": [
      "No output directory specified, using /Users/robertstein\n"
     ]
    },
    {
     "name": "stdout",
     "output_type": "stream",
     "text": [
      "Saved images to /Users/robertstein/WINTER_images_stack_2024_02_05_15_02_05.zip\n"
     ]
    },
    {
     "data": {
      "text/plain": [
       "{'date': 'Mon, 05 Feb 2024 23:02:03 GMT', 'server': 'uvicorn', 'content-disposition': 'attachment; filename=WINTER_images_stack_2024_02_05_15_02_05.zip', 'missing-images': '0', 'total-images': '1', 'image-type': 'stack', 'content-type': 'application/x-zip-compressed', 'Transfer-Encoding': 'chunked'}"
      ]
     },
     "execution_count": 8,
     "metadata": {},
     "output_type": "execute_result"
    }
   ],
   "source": [
    "res, output_path = winter.download_image_list(program_name, image_type=image_type, paths=savepaths)\n",
    "res.raise_for_status()\n",
    "print(f\"Saved images to {output_path}\")\n",
    "res.headers"
   ]
  },
  {
   "cell_type": "markdown",
   "id": "f741610d",
   "metadata": {},
   "source": [
    "Success! We downloaded a zip file with all our images."
   ]
  },
  {
   "cell_type": "code",
   "execution_count": null,
   "id": "2390cfd3",
   "metadata": {},
   "outputs": [],
   "source": []
  }
 ],
 "metadata": {
  "kernelspec": {
   "display_name": "winterapi",
   "language": "python",
   "name": "winterapi"
  },
  "language_info": {
   "codemirror_mode": {
    "name": "ipython",
    "version": 3
   },
   "file_extension": ".py",
   "mimetype": "text/x-python",
   "name": "python",
   "nbconvert_exporter": "python",
   "pygments_lexer": "ipython3",
   "version": "3.11.3"
  }
 },
 "nbformat": 4,
 "nbformat_minor": 5
}
