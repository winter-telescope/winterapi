{
 "cells": [
  {
   "cell_type": "code",
   "execution_count": 1,
   "id": "f91a536f",
   "metadata": {},
   "outputs": [],
   "source": [
    "import logging\n",
    "from winterapi import WinterAPI\n",
    "from wintertoo.models import ProgramImageQuery"
   ]
  },
  {
   "cell_type": "code",
   "execution_count": 2,
   "id": "5e92d4e2",
   "metadata": {},
   "outputs": [],
   "source": [
    "logging.getLogger(\"winterapi\").setLevel(\"DEBUG\")"
   ]
  },
  {
   "cell_type": "code",
   "execution_count": 3,
   "id": "ba9823d9",
   "metadata": {},
   "outputs": [],
   "source": [
    "winter = WinterAPI()"
   ]
  },
  {
   "cell_type": "code",
   "execution_count": 4,
   "id": "13e087c7",
   "metadata": {},
   "outputs": [],
   "source": [
    "program_name = \"2023A002\""
   ]
  },
  {
   "cell_type": "markdown",
   "id": "179e69d0",
   "metadata": {},
   "source": [
    "# Query by program and target"
   ]
  },
  {
   "cell_type": "code",
   "execution_count": 5,
   "id": "65f70acd",
   "metadata": {},
   "outputs": [],
   "source": [
    "image_type = \"stack\""
   ]
  },
  {
   "cell_type": "code",
   "execution_count": 6,
   "id": "b8c16182",
   "metadata": {},
   "outputs": [
    {
     "name": "stdout",
     "output_type": "stream",
     "text": [
      "Querying images for 2023A002 between 20240129 and 20240206 of type 'stack'\n",
      "program_name='2023A002' start_date=20240129 end_date=20240206 kind='stack'\n"
     ]
    },
    {
     "data": {
      "text/html": [
       "<div>\n",
       "<style scoped>\n",
       "    .dataframe tbody tr th:only-of-type {\n",
       "        vertical-align: middle;\n",
       "    }\n",
       "\n",
       "    .dataframe tbody tr th {\n",
       "        vertical-align: top;\n",
       "    }\n",
       "\n",
       "    .dataframe thead th {\n",
       "        text-align: right;\n",
       "    }\n",
       "</style>\n",
       "<table border=\"1\" class=\"dataframe\">\n",
       "  <thead>\n",
       "    <tr style=\"text-align: right;\">\n",
       "      <th></th>\n",
       "      <th>progname</th>\n",
       "      <th>nightdate</th>\n",
       "      <th>targname</th>\n",
       "      <th>ra</th>\n",
       "      <th>dec</th>\n",
       "      <th>fid</th>\n",
       "      <th>utctime</th>\n",
       "      <th>fieldid</th>\n",
       "      <th>image_type</th>\n",
       "      <th>savepath</th>\n",
       "    </tr>\n",
       "  </thead>\n",
       "  <tbody>\n",
       "    <tr>\n",
       "      <th>0</th>\n",
       "      <td>2023A002</td>\n",
       "      <td>2024-01-30</td>\n",
       "      <td>None</td>\n",
       "      <td>184.72127</td>\n",
       "      <td>49.994120</td>\n",
       "      <td>2</td>\n",
       "      <td>2024-01-30T14:14:25.616000+00:00</td>\n",
       "      <td>999999999</td>\n",
       "      <td>stack</td>\n",
       "      <td>/data/loki/data/winter/20240129/final/WINTERca...</td>\n",
       "    </tr>\n",
       "    <tr>\n",
       "      <th>1</th>\n",
       "      <td>2023A002</td>\n",
       "      <td>2024-01-30</td>\n",
       "      <td>None</td>\n",
       "      <td>184.79090</td>\n",
       "      <td>49.371407</td>\n",
       "      <td>2</td>\n",
       "      <td>2024-01-30T14:14:25.616000+00:00</td>\n",
       "      <td>999999999</td>\n",
       "      <td>stack</td>\n",
       "      <td>/data/loki/data/winter/20240129/final/WINTERca...</td>\n",
       "    </tr>\n",
       "    <tr>\n",
       "      <th>2</th>\n",
       "      <td>2023A002</td>\n",
       "      <td>2024-01-30</td>\n",
       "      <td>None</td>\n",
       "      <td>185.22182</td>\n",
       "      <td>49.978348</td>\n",
       "      <td>2</td>\n",
       "      <td>2024-01-30T14:14:25.616000+00:00</td>\n",
       "      <td>999999999</td>\n",
       "      <td>stack</td>\n",
       "      <td>/data/loki/data/winter/20240129/final/WINTERca...</td>\n",
       "    </tr>\n",
       "    <tr>\n",
       "      <th>3</th>\n",
       "      <td>2023A002</td>\n",
       "      <td>2024-01-30</td>\n",
       "      <td>None</td>\n",
       "      <td>185.78201</td>\n",
       "      <td>49.376770</td>\n",
       "      <td>2</td>\n",
       "      <td>2024-01-30T14:14:25.616000+00:00</td>\n",
       "      <td>999999999</td>\n",
       "      <td>stack</td>\n",
       "      <td>/data/loki/data/winter/20240129/final/WINTERca...</td>\n",
       "    </tr>\n",
       "    <tr>\n",
       "      <th>4</th>\n",
       "      <td>2023A002</td>\n",
       "      <td>2024-01-30</td>\n",
       "      <td>None</td>\n",
       "      <td>185.82114</td>\n",
       "      <td>49.970936</td>\n",
       "      <td>2</td>\n",
       "      <td>2024-01-30T14:14:25.616000+00:00</td>\n",
       "      <td>999999999</td>\n",
       "      <td>stack</td>\n",
       "      <td>/data/loki/data/winter/20240129/final/WINTERca...</td>\n",
       "    </tr>\n",
       "  </tbody>\n",
       "</table>\n",
       "</div>"
      ],
      "text/plain": [
       "   progname   nightdate targname         ra        dec  fid  \\\n",
       "0  2023A002  2024-01-30     None  184.72127  49.994120    2   \n",
       "1  2023A002  2024-01-30     None  184.79090  49.371407    2   \n",
       "2  2023A002  2024-01-30     None  185.22182  49.978348    2   \n",
       "3  2023A002  2024-01-30     None  185.78201  49.376770    2   \n",
       "4  2023A002  2024-01-30     None  185.82114  49.970936    2   \n",
       "\n",
       "                            utctime    fieldid image_type  \\\n",
       "0  2024-01-30T14:14:25.616000+00:00  999999999      stack   \n",
       "1  2024-01-30T14:14:25.616000+00:00  999999999      stack   \n",
       "2  2024-01-30T14:14:25.616000+00:00  999999999      stack   \n",
       "3  2024-01-30T14:14:25.616000+00:00  999999999      stack   \n",
       "4  2024-01-30T14:14:25.616000+00:00  999999999      stack   \n",
       "\n",
       "                                            savepath  \n",
       "0  /data/loki/data/winter/20240129/final/WINTERca...  \n",
       "1  /data/loki/data/winter/20240129/final/WINTERca...  \n",
       "2  /data/loki/data/winter/20240129/final/WINTERca...  \n",
       "3  /data/loki/data/winter/20240129/final/WINTERca...  \n",
       "4  /data/loki/data/winter/20240129/final/WINTERca...  "
      ]
     },
     "execution_count": 6,
     "metadata": {},
     "output_type": "execute_result"
    }
   ],
   "source": [
    "# Let's start by doing an image query\n",
    "res, images = winter.query_images_by_program(program_name, image_type=image_type, start_date=\"20240129\")\n",
    "images"
   ]
  },
  {
   "cell_type": "markdown",
   "id": "b9642e4f",
   "metadata": {},
   "source": [
    "# Downloading a list of images"
   ]
  },
  {
   "cell_type": "code",
   "execution_count": 7,
   "id": "88983a1c",
   "metadata": {},
   "outputs": [
    {
     "data": {
      "text/plain": [
       "['/data/loki/data/winter/20240129/final/WINTERcamera_20240130-061425-616_mef_1_0_0_stack.fits',\n",
       " '/data/loki/data/winter/20240129/final/WINTERcamera_20240130-061425-616_mef_5_0_0_stack.fits',\n",
       " '/data/loki/data/winter/20240129/final/WINTERcamera_20240130-061425-616_mef_3_0_0_stack.fits',\n",
       " '/data/loki/data/winter/20240129/final/WINTERcamera_20240130-061425-616_mef_2_0_0_stack.fits',\n",
       " '/data/loki/data/winter/20240129/final/WINTERcamera_20240130-061425-616_mef_4_0_0_stack.fits']"
      ]
     },
     "execution_count": 7,
     "metadata": {},
     "output_type": "execute_result"
    }
   ],
   "source": [
    "# Let's say we want to download an image. What's the savepath?\n",
    "savepaths = images[\"savepath\"].tolist()\n",
    "savepaths"
   ]
  },
  {
   "cell_type": "markdown",
   "id": "ca13baee",
   "metadata": {},
   "source": [
    "We can use the API to download this file, or files, as a compressed zip. \n",
    "You must specify the type of image!"
   ]
  },
  {
   "cell_type": "code",
   "execution_count": 8,
   "id": "96ec4b1f",
   "metadata": {},
   "outputs": [
    {
     "name": "stderr",
     "output_type": "stream",
     "text": [
      "No output directory specified, using /Users/robertstein\n"
     ]
    },
    {
     "name": "stdout",
     "output_type": "stream",
     "text": [
      "Saved images to /Users/robertstein/WINTER_images_stack_2024_02_05_22_58_41.zip\n",
      "{'Server': 'nginx/1.14.1', 'Date': 'Tue, 06 Feb 2024 06:58:45 GMT', 'Content-Type': 'application/x-zip-compressed', 'Transfer-Encoding': 'chunked', 'Connection': 'keep-alive', 'content-disposition': 'attachment; filename=WINTER_images_stack_2024_02_05_22_58_41.zip', 'missing-images': '0', 'total-images': '5', 'image-type': 'stack'}\n"
     ]
    }
   ],
   "source": [
    "res, output_path = winter.download_image_list(program_name, image_type=image_type, paths=savepaths)\n",
    "print(f\"Saved images to {output_path}\")\n",
    "print(res.headers)\n",
    "res.raise_for_status()"
   ]
  },
  {
   "cell_type": "markdown",
   "id": "f741610d",
   "metadata": {},
   "source": [
    "Success! We downloaded a zip file with all our images."
   ]
  },
  {
   "cell_type": "code",
   "execution_count": null,
   "id": "2390cfd3",
   "metadata": {},
   "outputs": [],
   "source": []
  }
 ],
 "metadata": {
  "kernelspec": {
   "display_name": "winterapi",
   "language": "python",
   "name": "winterapi"
  },
  "language_info": {
   "codemirror_mode": {
    "name": "ipython",
    "version": 3
   },
   "file_extension": ".py",
   "mimetype": "text/x-python",
   "name": "python",
   "nbconvert_exporter": "python",
   "pygments_lexer": "ipython3",
   "version": "3.11.3"
  }
 },
 "nbformat": 4,
 "nbformat_minor": 5
}
