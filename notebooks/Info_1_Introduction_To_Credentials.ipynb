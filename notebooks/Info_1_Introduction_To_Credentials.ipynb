{
 "cells": [
  {
   "cell_type": "code",
   "execution_count": 1,
   "id": "46f8f161",
   "metadata": {},
   "outputs": [],
   "source": [
    "import logging\n",
    "from winterapi import WinterAPI"
   ]
  },
  {
   "cell_type": "code",
   "execution_count": 2,
   "id": "f1e7ae0c",
   "metadata": {},
   "outputs": [],
   "source": [
    "logging.getLogger(\"winterapi\").setLevel(\"DEBUG\")"
   ]
  },
  {
   "cell_type": "code",
   "execution_count": 3,
   "id": "84ae8151",
   "metadata": {},
   "outputs": [],
   "source": [
    "# Uncomment to clear cache\n",
    "# WinterAPI.clear_cache()"
   ]
  },
  {
   "cell_type": "code",
   "execution_count": 4,
   "id": "3fbd0cbf",
   "metadata": {},
   "outputs": [],
   "source": [
    "winter = WinterAPI()"
   ]
  },
  {
   "cell_type": "markdown",
   "id": "10f77115",
   "metadata": {},
   "source": [
    "Check that the server is up"
   ]
  },
  {
   "cell_type": "code",
   "execution_count": 5,
   "id": "90ac54c2",
   "metadata": {
    "scrolled": false
   },
   "outputs": [
    {
     "name": "stdout",
     "output_type": "stream",
     "text": [
      "Pinging server: True\n"
     ]
    }
   ],
   "source": [
    "print(f\"Pinging server: {winter.ping()}\")"
   ]
  },
  {
   "cell_type": "markdown",
   "id": "ece54107",
   "metadata": {},
   "source": [
    "# User Accounts"
   ]
  },
  {
   "cell_type": "markdown",
   "id": "61adab67",
   "metadata": {},
   "source": [
    "Now let's set up a user account:"
   ]
  },
  {
   "cell_type": "code",
   "execution_count": 6,
   "id": "5739be95",
   "metadata": {},
   "outputs": [],
   "source": [
    "winter.add_user_details(\"rdstein@caltech.edu\", \"a-secure-password\", overwrite=True)"
   ]
  },
  {
   "cell_type": "markdown",
   "id": "43a42c15",
   "metadata": {},
   "source": [
    "You don't see anything, but behind the scenes these credentials are being checked with the API.\n",
    "\n",
    "For comparison, see what happens with incorrect credentials:"
   ]
  },
  {
   "cell_type": "code",
   "execution_count": 7,
   "id": "e4dc8ccb",
   "metadata": {},
   "outputs": [
    {
     "name": "stderr",
     "output_type": "stream",
     "text": [
      "API call failed with '<Response [401]>: {\"detail\":\"Incorrect email or password\"}'\n"
     ]
    },
    {
     "ename": "ValueError",
     "evalue": "API call failed with '<Response [401]>: {\"detail\":\"Incorrect email or password\"}'",
     "output_type": "error",
     "traceback": [
      "\u001b[0;31m---------------------------------------------------------------------------\u001b[0m",
      "\u001b[0;31mValueError\u001b[0m                                Traceback (most recent call last)",
      "Cell \u001b[0;32mIn[7], line 1\u001b[0m\n\u001b[0;32m----> 1\u001b[0m \u001b[43mwinter\u001b[49m\u001b[38;5;241;43m.\u001b[39;49m\u001b[43madd_user_details\u001b[49m\u001b[43m(\u001b[49m\u001b[38;5;124;43m\"\u001b[39;49m\u001b[38;5;124;43mrdstein@caltech.edu\u001b[39;49m\u001b[38;5;124;43m\"\u001b[39;49m\u001b[43m,\u001b[49m\u001b[43m \u001b[49m\u001b[38;5;124;43m\"\u001b[39;49m\u001b[38;5;124;43man-incorrect-password\u001b[39;49m\u001b[38;5;124;43m\"\u001b[39;49m\u001b[43m,\u001b[49m\u001b[43m \u001b[49m\u001b[43moverwrite\u001b[49m\u001b[38;5;241;43m=\u001b[39;49m\u001b[38;5;28;43;01mTrue\u001b[39;49;00m\u001b[43m)\u001b[49m\n",
      "File \u001b[0;32m~/Code/winterapi/winterapi/messenger.py:160\u001b[0m, in \u001b[0;36mWinterAPI.add_user_details\u001b[0;34m(self, user, password, overwrite)\u001b[0m\n\u001b[1;32m    157\u001b[0m \u001b[38;5;28;01mif\u001b[39;00m password \u001b[38;5;129;01mis\u001b[39;00m \u001b[38;5;28;01mNone\u001b[39;00m:\n\u001b[1;32m    158\u001b[0m     password \u001b[38;5;241m=\u001b[39m getpass\u001b[38;5;241m.\u001b[39mgetpass(\u001b[38;5;124mf\u001b[39m\u001b[38;5;124m\"\u001b[39m\u001b[38;5;124mEnter password for user \u001b[39m\u001b[38;5;132;01m{\u001b[39;00muser\u001b[38;5;132;01m}\u001b[39;00m\u001b[38;5;124m: \u001b[39m\u001b[38;5;124m\"\u001b[39m)\n\u001b[0;32m--> 160\u001b[0m \u001b[38;5;28;43mself\u001b[39;49m\u001b[38;5;241;43m.\u001b[39;49m\u001b[43mcheck_user_details\u001b[49m\u001b[43m(\u001b[49m\u001b[43muser\u001b[49m\u001b[38;5;241;43m=\u001b[39;49m\u001b[43muser\u001b[49m\u001b[43m,\u001b[49m\u001b[43m \u001b[49m\u001b[43mpassword\u001b[49m\u001b[38;5;241;43m=\u001b[39;49m\u001b[43mpassword\u001b[49m\u001b[43m)\u001b[49m\n\u001b[1;32m    162\u001b[0m \u001b[38;5;28mself\u001b[39m\u001b[38;5;241m.\u001b[39mfidelius\u001b[38;5;241m.\u001b[39mset_user(user\u001b[38;5;241m=\u001b[39muser, password\u001b[38;5;241m=\u001b[39mpassword, overwrite\u001b[38;5;241m=\u001b[39moverwrite)\n",
      "File \u001b[0;32m~/Code/winterapi/winterapi/messenger.py:172\u001b[0m, in \u001b[0;36mWinterAPI.check_user_details\u001b[0;34m(self, user, password)\u001b[0m\n\u001b[1;32m    164\u001b[0m \u001b[38;5;28;01mdef\u001b[39;00m \u001b[38;5;21mcheck_user_details\u001b[39m(\u001b[38;5;28mself\u001b[39m, user: \u001b[38;5;28mstr\u001b[39m, password: \u001b[38;5;28mstr\u001b[39m) \u001b[38;5;241m-\u001b[39m\u001b[38;5;241m>\u001b[39m requests\u001b[38;5;241m.\u001b[39mResponse:\n\u001b[1;32m    165\u001b[0m \u001b[38;5;250m    \u001b[39m\u001b[38;5;124;03m\"\"\"\u001b[39;00m\n\u001b[1;32m    166\u001b[0m \u001b[38;5;124;03m    Check the user details are correct.\u001b[39;00m\n\u001b[1;32m    167\u001b[0m \n\u001b[0;32m   (...)\u001b[0m\n\u001b[1;32m    170\u001b[0m \u001b[38;5;124;03m    :return: API response\u001b[39;00m\n\u001b[1;32m    171\u001b[0m \u001b[38;5;124;03m    \"\"\"\u001b[39;00m\n\u001b[0;32m--> 172\u001b[0m     \u001b[38;5;28;01mreturn\u001b[39;00m \u001b[38;5;28;43mself\u001b[39;49m\u001b[38;5;241;43m.\u001b[39;49m\u001b[43mget\u001b[49m\u001b[43m(\u001b[49m\u001b[43murl\u001b[49m\u001b[38;5;241;43m=\u001b[39;49m\u001b[43mUSER_URL\u001b[49m\u001b[43m,\u001b[49m\u001b[43m \u001b[49m\u001b[43mauth\u001b[49m\u001b[38;5;241;43m=\u001b[39;49m\u001b[43m(\u001b[49m\u001b[43muser\u001b[49m\u001b[43m,\u001b[49m\u001b[43m \u001b[49m\u001b[43mpassword\u001b[49m\u001b[43m)\u001b[49m\u001b[43m)\u001b[49m\n",
      "File \u001b[0;32m~/anaconda3/envs/winterapi/lib/python3.11/site-packages/backoff/_sync.py:105\u001b[0m, in \u001b[0;36mretry_exception.<locals>.retry\u001b[0;34m(*args, **kwargs)\u001b[0m\n\u001b[1;32m     96\u001b[0m details \u001b[38;5;241m=\u001b[39m {\n\u001b[1;32m     97\u001b[0m     \u001b[38;5;124m\"\u001b[39m\u001b[38;5;124mtarget\u001b[39m\u001b[38;5;124m\"\u001b[39m: target,\n\u001b[1;32m     98\u001b[0m     \u001b[38;5;124m\"\u001b[39m\u001b[38;5;124margs\u001b[39m\u001b[38;5;124m\"\u001b[39m: args,\n\u001b[0;32m   (...)\u001b[0m\n\u001b[1;32m    101\u001b[0m     \u001b[38;5;124m\"\u001b[39m\u001b[38;5;124melapsed\u001b[39m\u001b[38;5;124m\"\u001b[39m: elapsed,\n\u001b[1;32m    102\u001b[0m }\n\u001b[1;32m    104\u001b[0m \u001b[38;5;28;01mtry\u001b[39;00m:\n\u001b[0;32m--> 105\u001b[0m     ret \u001b[38;5;241m=\u001b[39m \u001b[43mtarget\u001b[49m\u001b[43m(\u001b[49m\u001b[38;5;241;43m*\u001b[39;49m\u001b[43margs\u001b[49m\u001b[43m,\u001b[49m\u001b[43m \u001b[49m\u001b[38;5;241;43m*\u001b[39;49m\u001b[38;5;241;43m*\u001b[39;49m\u001b[43mkwargs\u001b[49m\u001b[43m)\u001b[49m\n\u001b[1;32m    106\u001b[0m \u001b[38;5;28;01mexcept\u001b[39;00m exception \u001b[38;5;28;01mas\u001b[39;00m e:\n\u001b[1;32m    107\u001b[0m     max_tries_exceeded \u001b[38;5;241m=\u001b[39m (tries \u001b[38;5;241m==\u001b[39m max_tries_value)\n",
      "File \u001b[0;32m~/Code/winterapi/winterapi/messenger.py:87\u001b[0m, in \u001b[0;36mWinterAPI.get\u001b[0;34m(self, url, auth, **kwargs)\u001b[0m\n\u001b[1;32m     85\u001b[0m     err \u001b[38;5;241m=\u001b[39m \u001b[38;5;124mf\u001b[39m\u001b[38;5;124m\"\u001b[39m\u001b[38;5;124mAPI call failed with \u001b[39m\u001b[38;5;124m'\u001b[39m\u001b[38;5;132;01m{\u001b[39;00mres\u001b[38;5;132;01m}\u001b[39;00m\u001b[38;5;124m: \u001b[39m\u001b[38;5;132;01m{\u001b[39;00mres\u001b[38;5;241m.\u001b[39mtext\u001b[38;5;132;01m}\u001b[39;00m\u001b[38;5;124m'\u001b[39m\u001b[38;5;124m\"\u001b[39m\n\u001b[1;32m     86\u001b[0m     logger\u001b[38;5;241m.\u001b[39merror(err)\n\u001b[0;32m---> 87\u001b[0m     \u001b[38;5;28;01mraise\u001b[39;00m \u001b[38;5;167;01mValueError\u001b[39;00m(err)\n\u001b[1;32m     88\u001b[0m \u001b[38;5;28;01mreturn\u001b[39;00m res\n",
      "\u001b[0;31mValueError\u001b[0m: API call failed with '<Response [401]>: {\"detail\":\"Incorrect email or password\"}'"
     ]
    }
   ],
   "source": [
    "winter.add_user_details(\"rdstein@caltech.edu\", \"an-incorrect-password\", overwrite=True)"
   ]
  },
  {
   "cell_type": "markdown",
   "id": "c1a1ca3f",
   "metadata": {},
   "source": [
    "Each user should have one set of user credentials:\n",
    "* one user email\n",
    "* one secure password\n",
    "\n",
    "`winterapi` will store these. You can only have one set of credentials at once, so use:\n",
    "\n",
    "```\n",
    "add_user_details(*args, overwite=True)\n",
    "```\n",
    "\n",
    "to change them.\n",
    "\n",
    "**Your password is not stored after generation, so if you lose it, it cannot be recovered! If you lose your password, you need to request a new one.**"
   ]
  },
  {
   "cell_type": "markdown",
   "id": "c37cace9",
   "metadata": {},
   "source": [
    "# Winter Programs"
   ]
  },
  {
   "cell_type": "markdown",
   "id": "adb833d0",
   "metadata": {},
   "source": [
    "Although a user has one set of credentials, they may have access to multiple \"winter programs\".\n",
    "\n",
    "Each program will have a program name (e.g 2020A000), and a unique program api key. \n",
    "This key is issued to the PI, and may be used by multiple users. Equaly, one user will typically have access to multiple programs.\n",
    "\n",
    "You can set this up the same way as the user account, with API validation:"
   ]
  },
  {
   "cell_type": "code",
   "execution_count": null,
   "id": "b5d1e0d3",
   "metadata": {},
   "outputs": [],
   "source": [
    "winter.add_program(\"202XA000\", \"an-api-key\")\n",
    "# winter.add_program(\"2020B000\", \"other-secure-api-key\")"
   ]
  },
  {
   "cell_type": "code",
   "execution_count": null,
   "id": "a12a83db",
   "metadata": {
    "scrolled": true
   },
   "outputs": [],
   "source": [
    "winter.add_program(\"2022A000\", \"a-fake-api-key\")"
   ]
  },
  {
   "cell_type": "code",
   "execution_count": null,
   "id": "1fe22104",
   "metadata": {},
   "outputs": [],
   "source": []
  },
  {
   "cell_type": "code",
   "execution_count": null,
   "id": "3d6d86d5",
   "metadata": {},
   "outputs": [],
   "source": []
  }
 ],
 "metadata": {
  "kernelspec": {
   "display_name": "winterapi",
   "language": "python",
   "name": "winterapi"
  },
  "language_info": {
   "codemirror_mode": {
    "name": "ipython",
    "version": 3
   },
   "file_extension": ".py",
   "mimetype": "text/x-python",
   "name": "python",
   "nbconvert_exporter": "python",
   "pygments_lexer": "ipython3",
   "version": "3.11.3"
  }
 },
 "nbformat": 4,
 "nbformat_minor": 5
}
