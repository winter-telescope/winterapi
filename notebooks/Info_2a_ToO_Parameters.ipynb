{
 "cells": [
  {
   "cell_type": "code",
   "execution_count": 1,
   "id": "d331f783",
   "metadata": {},
   "outputs": [],
   "source": [
    "import logging\n",
    "from IPython.display import JSON\n",
    "import json\n",
    "from winterapi import WinterAPI\n",
    "from wintertoo.models import SummerFieldToO, SummerRaDecToO, WinterFieldToO, WinterRaDecToO"
   ]
  },
  {
   "cell_type": "code",
   "execution_count": 2,
   "id": "68657fec",
   "metadata": {},
   "outputs": [],
   "source": [
    "logging.getLogger(\"winterapi\").setLevel(\"DEBUG\")"
   ]
  },
  {
   "cell_type": "code",
   "execution_count": 3,
   "id": "75c8a14e",
   "metadata": {},
   "outputs": [],
   "source": [
    "winter = WinterAPI()"
   ]
  },
  {
   "cell_type": "markdown",
   "id": "bd4d474c",
   "metadata": {},
   "source": [
    "Our credentials from the previous notebook will still be active!"
   ]
  },
  {
   "cell_type": "markdown",
   "id": "eb5f0374",
   "metadata": {},
   "source": [
    "# Setting up a ToO"
   ]
  },
  {
   "cell_type": "markdown",
   "id": "e6a15b09",
   "metadata": {},
   "source": [
    "Now we are going to set up a ToO. There are two ways to trigger a ToO:\n",
    "* Using a ra/dec value\n",
    "* Using a field value\n",
    "\n",
    "There are also two types of instruments to trigger: WINTER or SUMMER. \n",
    "\n",
    "That makes **4 different ToO objects to choose from*.\n",
    "\n",
    "Let's go through the procedure for a Summer ToO using a field."
   ]
  },
  {
   "cell_type": "markdown",
   "id": "504be7f4",
   "metadata": {},
   "source": [
    "## Step 1: What can go into a ToO request?"
   ]
  },
  {
   "cell_type": "markdown",
   "id": "3a212a51",
   "metadata": {},
   "source": [
    "For `winterapi`, we handle data using `pydantic`. We specify what types of data can be provided, what the conditions are, and what the default values are.\n",
    "\n",
    "You can see all options in a human-readable way by converting the data model to a json schema:"
   ]
  },
  {
   "cell_type": "code",
   "execution_count": 4,
   "id": "15e67d82",
   "metadata": {},
   "outputs": [
    {
     "name": "stdout",
     "output_type": "stream",
     "text": [
      "{\n",
      "  \"additionalProperties\": false,\n",
      "  \"description\": \"Winter ToO Request with field\",\n",
      "  \"properties\": {\n",
      "    \"field_id\": {\n",
      "      \"minimum\": 1,\n",
      "      \"title\": \"Field ID\",\n",
      "      \"type\": \"integer\"\n",
      "    },\n",
      "    \"filters\": {\n",
      "      \"default\": [\n",
      "        \"Y\",\n",
      "        \"J\",\n",
      "        \"Hs\"\n",
      "      ],\n",
      "      \"items\": {\n",
      "        \"enum\": [\n",
      "          \"dark\",\n",
      "          \"Y\",\n",
      "          \"J\",\n",
      "          \"Hs\"\n",
      "        ],\n",
      "        \"type\": \"string\"\n",
      "      },\n",
      "      \"title\": \"Filters\",\n",
      "      \"type\": \"array\"\n",
      "    },\n",
      "    \"target_priority\": {\n",
      "      \"default\": 50.0,\n",
      "      \"minimum\": 0.0,\n",
      "      \"title\": \"Priority for target\",\n",
      "      \"type\": \"number\"\n",
      "    },\n",
      "    \"t_exp\": {\n",
      "      \"default\": 30.0,\n",
      "      \"minimum\": 1.0,\n",
      "      \"title\": \"Combined Exposure Time across dithers (s)\",\n",
      "      \"type\": \"number\"\n",
      "    },\n",
      "    \"n_exp\": {\n",
      "      \"default\": 1,\n",
      "      \"minimum\": 1,\n",
      "      \"title\": \"Number of dither sets\",\n",
      "      \"type\": \"integer\"\n",
      "    },\n",
      "    \"n_dither\": {\n",
      "      \"default\": 1,\n",
      "      \"minimum\": 1,\n",
      "      \"title\": \"Number of dithers\",\n",
      "      \"type\": \"integer\"\n",
      "    },\n",
      "    \"dither_distance\": {\n",
      "      \"default\": 30.0,\n",
      "      \"minimum\": 0.0,\n",
      "      \"title\": \"dither distance (arcsec)\",\n",
      "      \"type\": \"number\"\n",
      "    },\n",
      "    \"start_time_mjd\": {\n",
      "      \"anyOf\": [\n",
      "        {\n",
      "          \"type\": \"number\"\n",
      "        },\n",
      "        {\n",
      "          \"type\": \"null\"\n",
      "        }\n",
      "      ],\n",
      "      \"default\": 60341.0835267944,\n",
      "      \"title\": \"ToO validity start (MJD)\"\n",
      "    },\n",
      "    \"end_time_mjd\": {\n",
      "      \"anyOf\": [\n",
      "        {\n",
      "          \"minimum\": 60341.07352680047,\n",
      "          \"type\": \"number\"\n",
      "        },\n",
      "        {\n",
      "          \"type\": \"null\"\n",
      "        }\n",
      "      ],\n",
      "      \"default\": 60342.07352679921,\n",
      "      \"title\": \"ToO validity end (MJD)\"\n",
      "    },\n",
      "    \"max_airmass\": {\n",
      "      \"anyOf\": [\n",
      "        {\n",
      "          \"maximum\": 5,\n",
      "          \"minimum\": 1,\n",
      "          \"type\": \"number\"\n",
      "        },\n",
      "        {\n",
      "          \"type\": \"null\"\n",
      "        }\n",
      "      ],\n",
      "      \"default\": 2.0,\n",
      "      \"title\": \"Allowed airmass range\"\n",
      "    }\n",
      "  },\n",
      "  \"required\": [\n",
      "    \"field_id\"\n",
      "  ],\n",
      "  \"title\": \"WinterFieldToO\",\n",
      "  \"type\": \"object\"\n",
      "}\n"
     ]
    }
   ],
   "source": [
    "print(json.dumps(WinterFieldToO.model_json_schema(), indent=2))"
   ]
  },
  {
   "cell_type": "markdown",
   "id": "56fceaf1",
   "metadata": {},
   "source": [
    "There is a lot of information, but the most important line is right at the bottom. The only thing that is required is `field_id`. Everything else is optional.\n",
    "\n",
    "We can initialise the ToO using a random field number:"
   ]
  },
  {
   "cell_type": "code",
   "execution_count": 5,
   "id": "3dcfcdae",
   "metadata": {},
   "outputs": [
    {
     "data": {
      "text/plain": [
       "WinterFieldToO(field_id=55, filters=['Y', 'J', 'Hs'], target_priority=50.0, t_exp=30.0, n_exp=1, n_dither=1, dither_distance=30.0, start_time_mjd=60341.0835267944, end_time_mjd=60342.07352679921, max_airmass=2.0)"
      ]
     },
     "execution_count": 5,
     "metadata": {},
     "output_type": "execute_result"
    }
   ],
   "source": [
    "too = WinterFieldToO(field_id=55)\n",
    "too"
   ]
  },
  {
   "cell_type": "markdown",
   "id": "43a49362",
   "metadata": {},
   "source": [
    "As you can see, we got a full ToO request with sensible defaults. If we only wanted one filter rather than 3, we could specify this:"
   ]
  },
  {
   "cell_type": "code",
   "execution_count": 6,
   "id": "6605d149",
   "metadata": {},
   "outputs": [
    {
     "data": {
      "text/plain": [
       "WinterFieldToO(field_id=55, filters=['J'], target_priority=50.0, t_exp=30.0, n_exp=1, n_dither=1, dither_distance=30.0, start_time_mjd=60341.0835267944, end_time_mjd=60342.07352679921, max_airmass=2.0)"
      ]
     },
     "execution_count": 6,
     "metadata": {},
     "output_type": "execute_result"
    }
   ],
   "source": [
    "too = WinterFieldToO(field_id=55, filters=[\"J\"])\n",
    "too"
   ]
  },
  {
   "cell_type": "markdown",
   "id": "54ef13e4",
   "metadata": {},
   "source": [
    "Pydantic also validates the data we enter, to make sure things are sensible. Here are some examples of things you can't do:"
   ]
  },
  {
   "cell_type": "code",
   "execution_count": 7,
   "id": "217812b9",
   "metadata": {},
   "outputs": [
    {
     "ename": "ValidationError",
     "evalue": "1 validation error for WinterFieldToO\nfilters.0\n  Input should be 'dark', 'Y', 'J' or 'Hs' [type=literal_error, input_value='V', input_type=str]\n    For further information visit https://errors.pydantic.dev/2.3/v/literal_error",
     "output_type": "error",
     "traceback": [
      "\u001b[0;31m---------------------------------------------------------------------------\u001b[0m",
      "\u001b[0;31mValidationError\u001b[0m                           Traceback (most recent call last)",
      "Cell \u001b[0;32mIn[7], line 2\u001b[0m\n\u001b[1;32m      1\u001b[0m \u001b[38;5;66;03m# Names a filter that isn't available\u001b[39;00m\n\u001b[0;32m----> 2\u001b[0m too \u001b[38;5;241m=\u001b[39m \u001b[43mWinterFieldToO\u001b[49m\u001b[43m(\u001b[49m\u001b[43mfield_id\u001b[49m\u001b[38;5;241;43m=\u001b[39;49m\u001b[38;5;241;43m55\u001b[39;49m\u001b[43m,\u001b[49m\u001b[43m \u001b[49m\u001b[43mfilters\u001b[49m\u001b[38;5;241;43m=\u001b[39;49m\u001b[43m[\u001b[49m\u001b[38;5;124;43m\"\u001b[39;49m\u001b[38;5;124;43mV\u001b[39;49m\u001b[38;5;124;43m\"\u001b[39;49m\u001b[43m]\u001b[49m\u001b[43m)\u001b[49m\n\u001b[1;32m      3\u001b[0m too\n",
      "File \u001b[0;32m~/anaconda3/envs/winterapi/lib/python3.11/site-packages/pydantic/main.py:165\u001b[0m, in \u001b[0;36mBaseModel.__init__\u001b[0;34m(__pydantic_self__, **data)\u001b[0m\n\u001b[1;32m    163\u001b[0m \u001b[38;5;66;03m# `__tracebackhide__` tells pytest and some other tools to omit this function from tracebacks\u001b[39;00m\n\u001b[1;32m    164\u001b[0m __tracebackhide__ \u001b[38;5;241m=\u001b[39m \u001b[38;5;28;01mTrue\u001b[39;00m\n\u001b[0;32m--> 165\u001b[0m \u001b[43m__pydantic_self__\u001b[49m\u001b[38;5;241;43m.\u001b[39;49m\u001b[43m__pydantic_validator__\u001b[49m\u001b[38;5;241;43m.\u001b[39;49m\u001b[43mvalidate_python\u001b[49m\u001b[43m(\u001b[49m\u001b[43mdata\u001b[49m\u001b[43m,\u001b[49m\u001b[43m \u001b[49m\u001b[43mself_instance\u001b[49m\u001b[38;5;241;43m=\u001b[39;49m\u001b[43m__pydantic_self__\u001b[49m\u001b[43m)\u001b[49m\n",
      "\u001b[0;31mValidationError\u001b[0m: 1 validation error for WinterFieldToO\nfilters.0\n  Input should be 'dark', 'Y', 'J' or 'Hs' [type=literal_error, input_value='V', input_type=str]\n    For further information visit https://errors.pydantic.dev/2.3/v/literal_error"
     ]
    }
   ],
   "source": [
    "# Names a filter that isn't available\n",
    "too = WinterFieldToO(field_id=55, filters=[\"V\"])\n",
    "too"
   ]
  },
  {
   "cell_type": "code",
   "execution_count": 8,
   "id": "00b582dd",
   "metadata": {},
   "outputs": [
    {
     "ename": "ValidationError",
     "evalue": "1 validation error for WinterFieldToO\nend_time_mjd\n  Input should be greater than or equal to 60341.07352680047 [type=greater_than_equal, input_value=58000.0, input_type=float]\n    For further information visit https://errors.pydantic.dev/2.3/v/greater_than_equal",
     "output_type": "error",
     "traceback": [
      "\u001b[0;31m---------------------------------------------------------------------------\u001b[0m",
      "\u001b[0;31mValidationError\u001b[0m                           Traceback (most recent call last)",
      "Cell \u001b[0;32mIn[8], line 2\u001b[0m\n\u001b[1;32m      1\u001b[0m \u001b[38;5;66;03m# end time in the past\u001b[39;00m\n\u001b[0;32m----> 2\u001b[0m too \u001b[38;5;241m=\u001b[39m \u001b[43mWinterFieldToO\u001b[49m\u001b[43m(\u001b[49m\u001b[43mfield_id\u001b[49m\u001b[38;5;241;43m=\u001b[39;49m\u001b[38;5;241;43m55\u001b[39;49m\u001b[43m,\u001b[49m\u001b[43m \u001b[49m\u001b[43mend_time_mjd\u001b[49m\u001b[38;5;241;43m=\u001b[39;49m\u001b[38;5;241;43m58000.\u001b[39;49m\u001b[43m)\u001b[49m\n\u001b[1;32m      3\u001b[0m too\n",
      "File \u001b[0;32m~/anaconda3/envs/winterapi/lib/python3.11/site-packages/pydantic/main.py:165\u001b[0m, in \u001b[0;36mBaseModel.__init__\u001b[0;34m(__pydantic_self__, **data)\u001b[0m\n\u001b[1;32m    163\u001b[0m \u001b[38;5;66;03m# `__tracebackhide__` tells pytest and some other tools to omit this function from tracebacks\u001b[39;00m\n\u001b[1;32m    164\u001b[0m __tracebackhide__ \u001b[38;5;241m=\u001b[39m \u001b[38;5;28;01mTrue\u001b[39;00m\n\u001b[0;32m--> 165\u001b[0m \u001b[43m__pydantic_self__\u001b[49m\u001b[38;5;241;43m.\u001b[39;49m\u001b[43m__pydantic_validator__\u001b[49m\u001b[38;5;241;43m.\u001b[39;49m\u001b[43mvalidate_python\u001b[49m\u001b[43m(\u001b[49m\u001b[43mdata\u001b[49m\u001b[43m,\u001b[49m\u001b[43m \u001b[49m\u001b[43mself_instance\u001b[49m\u001b[38;5;241;43m=\u001b[39;49m\u001b[43m__pydantic_self__\u001b[49m\u001b[43m)\u001b[49m\n",
      "\u001b[0;31mValidationError\u001b[0m: 1 validation error for WinterFieldToO\nend_time_mjd\n  Input should be greater than or equal to 60341.07352680047 [type=greater_than_equal, input_value=58000.0, input_type=float]\n    For further information visit https://errors.pydantic.dev/2.3/v/greater_than_equal"
     ]
    }
   ],
   "source": [
    "# end time in the past\n",
    "too = WinterFieldToO(field_id=55, end_time_mjd=58000.)\n",
    "too"
   ]
  },
  {
   "cell_type": "code",
   "execution_count": 9,
   "id": "7133e738",
   "metadata": {},
   "outputs": [
    {
     "ename": "ValidationError",
     "evalue": "1 validation error for WinterFieldToO\nn_dither\n  Input should be greater than or equal to 1 [type=greater_than_equal, input_value=0, input_type=int]\n    For further information visit https://errors.pydantic.dev/2.3/v/greater_than_equal",
     "output_type": "error",
     "traceback": [
      "\u001b[0;31m---------------------------------------------------------------------------\u001b[0m",
      "\u001b[0;31mValidationError\u001b[0m                           Traceback (most recent call last)",
      "Cell \u001b[0;32mIn[9], line 2\u001b[0m\n\u001b[1;32m      1\u001b[0m \u001b[38;5;66;03m# Chooses a nonsensical n_dither number\u001b[39;00m\n\u001b[0;32m----> 2\u001b[0m too \u001b[38;5;241m=\u001b[39m \u001b[43mWinterFieldToO\u001b[49m\u001b[43m(\u001b[49m\u001b[43mfield_id\u001b[49m\u001b[38;5;241;43m=\u001b[39;49m\u001b[38;5;241;43m55\u001b[39;49m\u001b[43m,\u001b[49m\u001b[43m \u001b[49m\u001b[43mn_dither\u001b[49m\u001b[38;5;241;43m=\u001b[39;49m\u001b[38;5;241;43m0\u001b[39;49m\u001b[43m)\u001b[49m\n\u001b[1;32m      3\u001b[0m too\n",
      "File \u001b[0;32m~/anaconda3/envs/winterapi/lib/python3.11/site-packages/pydantic/main.py:165\u001b[0m, in \u001b[0;36mBaseModel.__init__\u001b[0;34m(__pydantic_self__, **data)\u001b[0m\n\u001b[1;32m    163\u001b[0m \u001b[38;5;66;03m# `__tracebackhide__` tells pytest and some other tools to omit this function from tracebacks\u001b[39;00m\n\u001b[1;32m    164\u001b[0m __tracebackhide__ \u001b[38;5;241m=\u001b[39m \u001b[38;5;28;01mTrue\u001b[39;00m\n\u001b[0;32m--> 165\u001b[0m \u001b[43m__pydantic_self__\u001b[49m\u001b[38;5;241;43m.\u001b[39;49m\u001b[43m__pydantic_validator__\u001b[49m\u001b[38;5;241;43m.\u001b[39;49m\u001b[43mvalidate_python\u001b[49m\u001b[43m(\u001b[49m\u001b[43mdata\u001b[49m\u001b[43m,\u001b[49m\u001b[43m \u001b[49m\u001b[43mself_instance\u001b[49m\u001b[38;5;241;43m=\u001b[39;49m\u001b[43m__pydantic_self__\u001b[49m\u001b[43m)\u001b[49m\n",
      "\u001b[0;31mValidationError\u001b[0m: 1 validation error for WinterFieldToO\nn_dither\n  Input should be greater than or equal to 1 [type=greater_than_equal, input_value=0, input_type=int]\n    For further information visit https://errors.pydantic.dev/2.3/v/greater_than_equal"
     ]
    }
   ],
   "source": [
    "# Chooses a nonsensical n_dither number\n",
    "too = WinterFieldToO(field_id=55, n_dither=0)\n",
    "too"
   ]
  },
  {
   "cell_type": "markdown",
   "id": "1371556c",
   "metadata": {},
   "source": [
    "## Step 2 Choosing a ToO using ra/dec"
   ]
  },
  {
   "cell_type": "markdown",
   "id": "7614d0d0",
   "metadata": {},
   "source": [
    "If you know the field to observe, then you have all the information you need, because each grid has a unique ra/dec value for that field.\n",
    "The API will look that value up, so you do not need to worry about it.\n",
    "\n",
    "However, more often, if you are performing a ToO, it's because you know the ra/dec of a specific object.\n",
    "\n",
    "In that case, we can use a Ra/Dec model. Here's one with Winter:"
   ]
  },
  {
   "cell_type": "code",
   "execution_count": 10,
   "id": "8f56c276",
   "metadata": {},
   "outputs": [
    {
     "name": "stdout",
     "output_type": "stream",
     "text": [
      "{\n",
      "  \"additionalProperties\": false,\n",
      "  \"description\": \"Winter ToO Request with Ra/Dec\",\n",
      "  \"properties\": {\n",
      "    \"ra_deg\": {\n",
      "      \"example\": 180.0,\n",
      "      \"maximum\": 360.0,\n",
      "      \"minimum\": 0.0,\n",
      "      \"title\": \"Right ascension in decimal degrees\",\n",
      "      \"type\": \"number\"\n",
      "    },\n",
      "    \"dec_deg\": {\n",
      "      \"example\": 0.0,\n",
      "      \"maximum\": 90.0,\n",
      "      \"minimum\": -90.0,\n",
      "      \"title\": \"Declination in decimal degrees\",\n",
      "      \"type\": \"number\"\n",
      "    },\n",
      "    \"use_field_grid\": {\n",
      "      \"default\": true,\n",
      "      \"title\": \"boolean whether to select nearest field in grid for central ra/dec\",\n",
      "      \"type\": \"boolean\"\n",
      "    },\n",
      "    \"filters\": {\n",
      "      \"default\": [\n",
      "        \"Y\",\n",
      "        \"J\",\n",
      "        \"Hs\"\n",
      "      ],\n",
      "      \"items\": {\n",
      "        \"enum\": [\n",
      "          \"dark\",\n",
      "          \"Y\",\n",
      "          \"J\",\n",
      "          \"Hs\"\n",
      "        ],\n",
      "        \"type\": \"string\"\n",
      "      },\n",
      "      \"title\": \"Filters\",\n",
      "      \"type\": \"array\"\n",
      "    },\n",
      "    \"target_priority\": {\n",
      "      \"default\": 50.0,\n",
      "      \"minimum\": 0.0,\n",
      "      \"title\": \"Priority for target\",\n",
      "      \"type\": \"number\"\n",
      "    },\n",
      "    \"t_exp\": {\n",
      "      \"default\": 30.0,\n",
      "      \"minimum\": 1.0,\n",
      "      \"title\": \"Combined Exposure Time across dithers (s)\",\n",
      "      \"type\": \"number\"\n",
      "    },\n",
      "    \"n_exp\": {\n",
      "      \"default\": 1,\n",
      "      \"minimum\": 1,\n",
      "      \"title\": \"Number of dither sets\",\n",
      "      \"type\": \"integer\"\n",
      "    },\n",
      "    \"n_dither\": {\n",
      "      \"default\": 1,\n",
      "      \"minimum\": 1,\n",
      "      \"title\": \"Number of dithers\",\n",
      "      \"type\": \"integer\"\n",
      "    },\n",
      "    \"dither_distance\": {\n",
      "      \"default\": 30.0,\n",
      "      \"minimum\": 0.0,\n",
      "      \"title\": \"dither distance (arcsec)\",\n",
      "      \"type\": \"number\"\n",
      "    },\n",
      "    \"start_time_mjd\": {\n",
      "      \"anyOf\": [\n",
      "        {\n",
      "          \"type\": \"number\"\n",
      "        },\n",
      "        {\n",
      "          \"type\": \"null\"\n",
      "        }\n",
      "      ],\n",
      "      \"default\": 60341.0835267944,\n",
      "      \"title\": \"ToO validity start (MJD)\"\n",
      "    },\n",
      "    \"end_time_mjd\": {\n",
      "      \"anyOf\": [\n",
      "        {\n",
      "          \"minimum\": 60341.07352680047,\n",
      "          \"type\": \"number\"\n",
      "        },\n",
      "        {\n",
      "          \"type\": \"null\"\n",
      "        }\n",
      "      ],\n",
      "      \"default\": 60342.07352679921,\n",
      "      \"title\": \"ToO validity end (MJD)\"\n",
      "    },\n",
      "    \"max_airmass\": {\n",
      "      \"anyOf\": [\n",
      "        {\n",
      "          \"maximum\": 5,\n",
      "          \"minimum\": 1,\n",
      "          \"type\": \"number\"\n",
      "        },\n",
      "        {\n",
      "          \"type\": \"null\"\n",
      "        }\n",
      "      ],\n",
      "      \"default\": 2.0,\n",
      "      \"title\": \"Allowed airmass range\"\n",
      "    }\n",
      "  },\n",
      "  \"required\": [\n",
      "    \"ra_deg\",\n",
      "    \"dec_deg\"\n",
      "  ],\n",
      "  \"title\": \"WinterRaDecToO\",\n",
      "  \"type\": \"object\"\n",
      "}\n"
     ]
    }
   ],
   "source": [
    "print(json.dumps(WinterRaDecToO.model_json_schema(), indent=2))"
   ]
  },
  {
   "cell_type": "markdown",
   "id": "cc4aba3a",
   "metadata": {},
   "source": [
    "In this case, we only need to provide the ra and dec:"
   ]
  },
  {
   "cell_type": "code",
   "execution_count": 11,
   "id": "266c0940",
   "metadata": {},
   "outputs": [
    {
     "data": {
      "text/plain": [
       "WinterRaDecToO(ra_deg=300.0, dec_deg=51.0, use_field_grid=True, filters=['Y', 'J', 'Hs'], target_priority=50.0, t_exp=30.0, n_exp=1, n_dither=1, dither_distance=30.0, start_time_mjd=60341.0835267944, end_time_mjd=60342.07352679921, max_airmass=2.0)"
      ]
     },
     "execution_count": 11,
     "metadata": {},
     "output_type": "execute_result"
    }
   ],
   "source": [
    "too = WinterRaDecToO(ra_deg=300., dec_deg=51.)\n",
    "too"
   ]
  },
  {
   "cell_type": "markdown",
   "id": "5bdf48c2",
   "metadata": {},
   "source": [
    "**One important note: by default, a schedule with an ra/dec will be matched to the nearest field, and the exposure will be centered on that field RA/dec**\n",
    "    \n",
    "You can disable this behaviour by setting `use_field_grid` to false! "
   ]
  },
  {
   "cell_type": "code",
   "execution_count": 12,
   "id": "42a4c48c",
   "metadata": {},
   "outputs": [
    {
     "data": {
      "text/plain": [
       "WinterRaDecToO(ra_deg=300.0, dec_deg=51.0, use_field_grid=False, filters=['Y', 'J', 'Hs'], target_priority=50.0, t_exp=30.0, n_exp=1, n_dither=1, dither_distance=30.0, start_time_mjd=60341.0835267944, end_time_mjd=60342.07352679921, max_airmass=2.0)"
      ]
     },
     "execution_count": 12,
     "metadata": {},
     "output_type": "execute_result"
    }
   ],
   "source": [
    "too = WinterRaDecToO(ra_deg=300., dec_deg=51., use_field_grid=False)\n",
    "too"
   ]
  },
  {
   "cell_type": "code",
   "execution_count": null,
   "id": "4c0bada9",
   "metadata": {},
   "outputs": [],
   "source": []
  }
 ],
 "metadata": {
  "kernelspec": {
   "display_name": "winterapi",
   "language": "python",
   "name": "winterapi"
  },
  "language_info": {
   "codemirror_mode": {
    "name": "ipython",
    "version": 3
   },
   "file_extension": ".py",
   "mimetype": "text/x-python",
   "name": "python",
   "nbconvert_exporter": "python",
   "pygments_lexer": "ipython3",
   "version": "3.11.3"
  }
 },
 "nbformat": 4,
 "nbformat_minor": 5
}
